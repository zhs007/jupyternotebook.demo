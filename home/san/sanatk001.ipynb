{
 "cells": [
  {
   "cell_type": "code",
   "execution_count": 1,
   "id": "b3bb675a",
   "metadata": {},
   "outputs": [],
   "source": [
    "import pandas as pd\n",
    "import plotly.graph_objects as go\n",
    "import random\n",
    "\n",
    "random.seed()"
   ]
  },
  {
   "cell_type": "code",
   "execution_count": 2,
   "id": "1605b454",
   "metadata": {},
   "outputs": [],
   "source": [
    "def calcBasicAtk(srcatk, srcmul1, srcadd1, srcmul2, destdef, destmul1, destadd1, destmul2):\n",
    "    ratk = (srcatk * srcmul1 + srcadd1) * srcmul2\n",
    "    rdef = (destdef * destmul1 + destadd1) * destmul2\n",
    "    \n",
    "    return ratk * ratk / (ratk + rdef)\n",
    "\n",
    "def calcAtkMul(basicatk, atkmul, realhp):\n",
    "    return basicatk * atkmul / realhp"
   ]
  },
  {
   "cell_type": "code",
   "execution_count": 3,
   "id": "ac42ffaa",
   "metadata": {},
   "outputs": [
    {
     "data": {
      "text/plain": [
       "0.3719458507445807"
      ]
     },
     "execution_count": 3,
     "metadata": {},
     "output_type": "execute_result"
    }
   ],
   "source": [
    "atk = calcBasicAtk(244.35, 1.2, 16, 1.035, 93.4, 1, 0, 1)\n",
    "calcAtkMul(atk, 1.12, 746)"
   ]
  },
  {
   "cell_type": "code",
   "execution_count": 4,
   "id": "c2194ba0",
   "metadata": {},
   "outputs": [
    {
     "data": {
      "text/plain": [
       "0.29555827532598083"
      ]
     },
     "execution_count": 4,
     "metadata": {},
     "output_type": "execute_result"
    }
   ],
   "source": [
    "atk = calcBasicAtk(233.3, 1.2, 18 + 3 + 33.3, 1, 162.7, 1, 0, 1)\n",
    "calcAtkMul(atk / 1.17, 1.3 - 0.028, 827)"
   ]
  },
  {
   "cell_type": "code",
   "execution_count": 5,
   "id": "09bbfb10",
   "metadata": {},
   "outputs": [
    {
     "data": {
      "text/plain": [
       "0.41614849925367464"
      ]
     },
     "execution_count": 5,
     "metadata": {},
     "output_type": "execute_result"
    }
   ],
   "source": [
    "atk = calcBasicAtk(233.3, 1.2, 18 + 3 + 33.3, 1, 101.9, 1, 0, 1)\n",
    "calcAtkMul(atk, 1.3 - 0.028, 783)"
   ]
  },
  {
   "cell_type": "code",
   "execution_count": 6,
   "id": "185ababc",
   "metadata": {},
   "outputs": [
    {
     "data": {
      "text/plain": [
       "0.3988302018551129"
      ]
     },
     "execution_count": 6,
     "metadata": {},
     "output_type": "execute_result"
    }
   ],
   "source": [
    "atk = calcBasicAtk(233.3, 1.2, 18 + 3 + 33.3, 1, 101.9, 1, 0, 1)\n",
    "calcAtkMul(atk, 1.3 - 0.028, 817)"
   ]
  },
  {
   "cell_type": "code",
   "execution_count": 7,
   "id": "b871323e",
   "metadata": {},
   "outputs": [
    {
     "data": {
      "text/plain": [
       "0.27526221293151587"
      ]
     },
     "execution_count": 7,
     "metadata": {},
     "output_type": "execute_result"
    }
   ],
   "source": [
    "atk = calcBasicAtk(203.46, 1.2, 18 + 5, 1, 126.9, 1, 0, 1)\n",
    "calcAtkMul(atk, 1.18 - 0.028, 758)"
   ]
  },
  {
   "cell_type": "code",
   "execution_count": null,
   "id": "d469ce40",
   "metadata": {},
   "outputs": [],
   "source": []
  }
 ],
 "metadata": {
  "kernelspec": {
   "display_name": "Python 3 (ipykernel)",
   "language": "python",
   "name": "python3"
  },
  "language_info": {
   "codemirror_mode": {
    "name": "ipython",
    "version": 3
   },
   "file_extension": ".py",
   "mimetype": "text/x-python",
   "name": "python",
   "nbconvert_exporter": "python",
   "pygments_lexer": "ipython3",
   "version": "3.9.7"
  }
 },
 "nbformat": 4,
 "nbformat_minor": 5
}
