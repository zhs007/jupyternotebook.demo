{
 "cells": [
  {
   "cell_type": "code",
   "execution_count": null,
   "id": "079211bf",
   "metadata": {},
   "outputs": [],
   "source": [
    "import pandas as pd\n",
    "import plotly.graph_objects as go\n",
    "import random\n",
    "\n",
    "random.seed()"
   ]
  },
  {
   "cell_type": "code",
   "execution_count": null,
   "id": "8e1c6c36",
   "metadata": {},
   "outputs": [],
   "source": [
    "def randCard(curnums, noStar5Nums):\n",
    "    if noStar5Nums + 1 == 30:\n",
    "        return 5\n",
    "    \n",
    "    r = random.random()\n",
    "    if r < 0.056:\n",
    "        return 5\n",
    "    elif r < 0.056 + 0.36:\n",
    "        return 4\n",
    "    else:\n",
    "        if (curnums + 1) % 5 == 0:\n",
    "            return randCard(curnums, noStar5Nums)\n",
    "        \n",
    "        return 3\n",
    "\n",
    "def randCards(nums):\n",
    "    curnums = 0\n",
    "    noStar5Nums = 0\n",
    "    star5nums = 0\n",
    "    star4nums = 0\n",
    "    \n",
    "    for i in range(nums):\n",
    "        cc = randCard(curnums, noStar5Nums)\n",
    "        if cc == 5:\n",
    "            star5nums += 1\n",
    "            noStar5Nums = 0\n",
    "        elif cc == 4:\n",
    "            star4nums += 1\n",
    "            noStar5Nums += 1\n",
    "        else:\n",
    "            noStar5Nums += 1\n",
    "        \n",
    "        curnums += 1\n",
    "        \n",
    "    return star5nums, star4nums\n",
    "\n",
    "def randCards2(nums, totalnums):\n",
    "    mapCards4 = {}\n",
    "    mapCards5 = {}\n",
    "    for i in range(totalnums):\n",
    "        s5, s4 = randCards(nums)\n",
    "        if s5 in mapCards5:\n",
    "            mapCards5[s5] += 1\n",
    "        else:\n",
    "            mapCards5[s5] = 1\n",
    "\n",
    "        if s4 in mapCards4:\n",
    "            mapCards4[s4] += 1\n",
    "        else:\n",
    "            mapCards4[s4] = 1\n",
    "        \n",
    "    return mapCards5, mapCards4"
   ]
  },
  {
   "cell_type": "code",
   "execution_count": null,
   "id": "63ee4dba",
   "metadata": {},
   "outputs": [],
   "source": [
    "randcards2TotalNums = 1000000\n",
    "\n",
    "map5, map4 = randCards2(240, randcards2TotalNums)"
   ]
  },
  {
   "cell_type": "code",
   "execution_count": null,
   "id": "c22901ed",
   "metadata": {},
   "outputs": [],
   "source": [
    "def showBars(tags, rets, totalnums):\n",
    "    fig = go.Figure()\n",
    "    \n",
    "    for i in range(len(tags)):\n",
    "        xarr = []\n",
    "        yarr = []\n",
    "        \n",
    "        for k, v in rets[i].items():\n",
    "            xarr.append(k)\n",
    "            yarr.append(v / totalnums)\n",
    "            \n",
    "        fig.add_trace(go.Bar(\n",
    "            x=xarr,\n",
    "            y=yarr,\n",
    "            name=tags[i],\n",
    "        ))            \n",
    "\n",
    "    fig.update_layout(barmode='group', xaxis_tickangle=-45)\n",
    "    fig.show()"
   ]
  },
  {
   "cell_type": "code",
   "execution_count": null,
   "id": "fa8e9085",
   "metadata": {},
   "outputs": [],
   "source": [
    "showBars(['100万人抽240次获得5星卡数量', '100万人抽240次获得4星卡数量'], [map5, map4], randcards2TotalNums)"
   ]
  },
  {
   "cell_type": "code",
   "execution_count": null,
   "id": "33bb2c7c",
   "metadata": {},
   "outputs": [],
   "source": [
    "map5, map4 = randCards2(29, randcards2TotalNums)"
   ]
  },
  {
   "cell_type": "code",
   "execution_count": null,
   "id": "af1d239d",
   "metadata": {},
   "outputs": [],
   "source": [
    "showBars(['100万人抽29次获得5星卡数量', '100万人抽29次获得4星卡数量'], [map5, map4], randcards2TotalNums)"
   ]
  },
  {
   "cell_type": "code",
   "execution_count": null,
   "id": "20452fe2",
   "metadata": {},
   "outputs": [],
   "source": [
    "map5, map4 = randCards2(30, randcards2TotalNums)"
   ]
  },
  {
   "cell_type": "code",
   "execution_count": null,
   "id": "0b88dfdc",
   "metadata": {},
   "outputs": [],
   "source": [
    "showBars(['100万人抽30次获得5星卡数量', '100万人抽30次获得4星卡数量'], [map5, map4], randcards2TotalNums)"
   ]
  },
  {
   "cell_type": "code",
   "execution_count": null,
   "id": "db9a7f2d",
   "metadata": {},
   "outputs": [],
   "source": [
    "map5, map4 = randCards2(120, randcards2TotalNums)"
   ]
  },
  {
   "cell_type": "code",
   "execution_count": null,
   "id": "afe37978",
   "metadata": {},
   "outputs": [],
   "source": [
    "showBars(['100万人抽120次获得5星卡数量', '100万人抽120次获得4星卡数量'], [map5, map4], randcards2TotalNums)"
   ]
  },
  {
   "cell_type": "code",
   "execution_count": null,
   "id": "362abbbd",
   "metadata": {},
   "outputs": [],
   "source": [
    "def randBYCards(nums, per):\n",
    "    n = 0\n",
    "    for i in range(nums):\n",
    "        if random.random() < per:\n",
    "            n = n + 1\n",
    "    \n",
    "    return n\n",
    "\n",
    "def randBYCards2(nums, per, maxtimes):\n",
    "    n = 0\n",
    "    cn = 0\n",
    "    for i in range(nums):\n",
    "        if cn >= maxtimes - 1:\n",
    "            n = n + 1\n",
    "            cn = 0            \n",
    "        elif random.random() < per:\n",
    "            n = n + 1\n",
    "            cn = 0\n",
    "        else:\n",
    "            cn = cn + 1\n",
    "    \n",
    "    return n"
   ]
  },
  {
   "cell_type": "code",
   "execution_count": null,
   "id": "bc5fd907",
   "metadata": {},
   "outputs": [],
   "source": [
    "ret1 = {}\n",
    "ret2 = {}\n",
    "for i in range(randcards2TotalNums):\n",
    "    rn = randBYCards2(20, 0.1, 10)\n",
    "    rrn = 10 - rn\n",
    "    if rn not in ret2:\n",
    "        ret2[rn] = 1\n",
    "    else:\n",
    "        ret2[rn] = ret2[rn] + 1        \n",
    "        \n",
    "    if rrn not in ret1:\n",
    "        ret1[rrn] = 1\n",
    "    else:\n",
    "        ret1[rrn] = ret1[rrn] + 1                "
   ]
  },
  {
   "cell_type": "code",
   "execution_count": null,
   "id": "439fabd9",
   "metadata": {},
   "outputs": [],
   "source": [
    "map5, map4 = randCards2(80, randcards2TotalNums)"
   ]
  },
  {
   "cell_type": "code",
   "execution_count": null,
   "id": "46cdaff0",
   "metadata": {},
   "outputs": [],
   "source": [
    "showBars(['100万人抽80次名将卡包获得5星卡数量', \n",
    "          '100万人抽80次名将卡包获得4星卡数量', \n",
    "          '100万人抽20次历战割据霸业卡包获得5星卡数量',\n",
    "          '100万人抽20次历战割据霸业卡包获得4星卡数量'], [map5, map4, ret2, ret1], randcards2TotalNums)"
   ]
  },
  {
   "cell_type": "code",
   "execution_count": null,
   "id": "b5ab6ae0",
   "metadata": {},
   "outputs": [],
   "source": [
    "map5, map4 = randCards2(40, randcards2TotalNums)"
   ]
  },
  {
   "cell_type": "code",
   "execution_count": null,
   "id": "a2ea5713",
   "metadata": {},
   "outputs": [],
   "source": [
    "showBars(['100万人抽40次名将卡包获得5星卡数量', \n",
    "          '100万人抽40次名将卡包获得4星卡数量', \n",
    "          '100万人抽20次历战割据霸业卡包获得5星卡数量',\n",
    "          '100万人抽20次历战割据霸业卡包获得4星卡数量'], [map5, map4, ret2, ret1], randcards2TotalNums)"
   ]
  },
  {
   "cell_type": "code",
   "execution_count": null,
   "id": "76321a84",
   "metadata": {},
   "outputs": [],
   "source": []
  }
 ],
 "metadata": {
  "kernelspec": {
   "display_name": "Python 3 (ipykernel)",
   "language": "python",
   "name": "python3"
  },
  "language_info": {
   "codemirror_mode": {
    "name": "ipython",
    "version": 3
   },
   "file_extension": ".py",
   "mimetype": "text/x-python",
   "name": "python",
   "nbconvert_exporter": "python",
   "pygments_lexer": "ipython3",
   "version": "3.9.7"
  }
 },
 "nbformat": 4,
 "nbformat_minor": 5
}
