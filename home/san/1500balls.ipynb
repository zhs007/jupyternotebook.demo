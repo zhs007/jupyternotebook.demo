{
 "cells": [
  {
   "cell_type": "code",
   "execution_count": null,
   "id": "0543497a",
   "metadata": {},
   "outputs": [],
   "source": [
    "import pandas as pd\n",
    "import numpy as np\n",
    "import plotly.graph_objects as go\n",
    "import random\n",
    "\n",
    "random.seed()"
   ]
  },
  {
   "cell_type": "code",
   "execution_count": null,
   "id": "62e7c0de",
   "metadata": {},
   "outputs": [],
   "source": [
    "def buildScene(balls):\n",
    "    lst = []\n",
    "    \n",
    "    for i in range(balls):\n",
    "        cr = int(random.random() * 100)\n",
    "        if cr < 50:\n",
    "            lst.append(0)\n",
    "        else:\n",
    "            lst.append(1)\n",
    "    \n",
    "    return lst\n",
    "\n",
    "def countNums(lst, minnums):\n",
    "    nums = 0\n",
    "    \n",
    "    is0 = False\n",
    "    nums0 = 0\n",
    "    \n",
    "    for i in range(len(lst)):\n",
    "        if lst[i] == 0:\n",
    "            if is0:\n",
    "                nums0+=1\n",
    "            else:\n",
    "                is0 = True\n",
    "                nums0 = 1\n",
    "        else:\n",
    "            if is0 and nums0 >= 7:\n",
    "                nums+=1\n",
    "                \n",
    "            is0 = False\n",
    "            nums0 = 0\n",
    "            \n",
    "    return nums"
   ]
  },
  {
   "cell_type": "code",
   "execution_count": null,
   "id": "d0bddb1e",
   "metadata": {},
   "outputs": [],
   "source": [
    "ret = {}\n",
    "\n",
    "for i in range(100000):\n",
    "    lst = buildScene(1500)\n",
    "    n = countNums(lst, 7)\n",
    "    \n",
    "    if n in ret:\n",
    "        ret[n] += 1\n",
    "    else:\n",
    "        ret[n] = 1\n",
    "        \n",
    "ret"
   ]
  },
  {
   "cell_type": "code",
   "execution_count": null,
   "id": "9bffa171",
   "metadata": {},
   "outputs": [],
   "source": []
  }
 ],
 "metadata": {
  "kernelspec": {
   "display_name": "Python 3 (ipykernel)",
   "language": "python",
   "name": "python3"
  },
  "language_info": {
   "codemirror_mode": {
    "name": "ipython",
    "version": 3
   },
   "file_extension": ".py",
   "mimetype": "text/x-python",
   "name": "python",
   "nbconvert_exporter": "python",
   "pygments_lexer": "ipython3",
   "version": "3.9.7"
  }
 },
 "nbformat": 4,
 "nbformat_minor": 5
}
