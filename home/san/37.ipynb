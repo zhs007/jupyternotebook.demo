{
 "cells": [
  {
   "cell_type": "code",
   "execution_count": null,
   "id": "0465ebbc",
   "metadata": {},
   "outputs": [],
   "source": [
    "import pandas as pd\n",
    "import numpy as np\n",
    "import plotly.graph_objects as go\n",
    "import random\n",
    "\n",
    "random.seed()"
   ]
  },
  {
   "cell_type": "code",
   "execution_count": null,
   "id": "2f0a96ca",
   "metadata": {},
   "outputs": [],
   "source": [
    "def proc21(nums, totalnums):\n",
    "    n = 0\n",
    "    \n",
    "    for i in range(totalnums):\n",
    "        cr = int(random.random() * 100)\n",
    "        if cr >= nums:\n",
    "            n = n + 1\n",
    "    \n",
    "    return n"
   ]
  },
  {
   "cell_type": "code",
   "execution_count": null,
   "id": "c9b518ba",
   "metadata": {},
   "outputs": [],
   "source": [
    "def showBars2(name, xarr, yarr):\n",
    "    fig = go.Figure()\n",
    "            \n",
    "    fig.add_trace(go.Bar(\n",
    "        x=xarr,\n",
    "        y=yarr,\n",
    "        name=name,\n",
    "    ))            \n",
    "\n",
    "    fig.update_layout(barmode='group', xaxis_tickangle=-45)\n",
    "    fig.show()"
   ]
  },
  {
   "cell_type": "code",
   "execution_count": null,
   "id": "77adc574",
   "metadata": {},
   "outputs": [],
   "source": [
    "xarr = []\n",
    "yarr = []\n",
    "\n",
    "for i in range(100):\n",
    "    cc = proc21(i + 1, 100)\n",
    "    xarr.append(i + 1)\n",
    "    yarr.append(cc)\n",
    "    \n",
    "showBars2('最优解次数', xarr, yarr)"
   ]
  },
  {
   "cell_type": "code",
   "execution_count": null,
   "id": "f422663a",
   "metadata": {},
   "outputs": [],
   "source": [
    "def randomList(arr):\n",
    "    narr = []\n",
    "    \n",
    "    for i in range(len(arr)):\n",
    "        r = int(random.random() * len(arr))\n",
    "        narr.append(arr[r])\n",
    "        del arr[r]\n",
    "    \n",
    "    return narr\n",
    "\n",
    "def genArr(nums):\n",
    "    arr = []\n",
    "    \n",
    "    for i in range(nums):\n",
    "        arr.append(i + 1)\n",
    "        \n",
    "    return arr"
   ]
  },
  {
   "cell_type": "code",
   "execution_count": null,
   "id": "4f33f363",
   "metadata": {},
   "outputs": [],
   "source": [
    "def proc37arr(nums, arr):\n",
    "    n = 0\n",
    "    arrlen = len(arr)\n",
    "    maxnums = 0\n",
    "    for i in range(nums):\n",
    "        if maxnums < arr[i]:\n",
    "            maxnums = arr[i]\n",
    "\n",
    "    isok = False\n",
    "    for i in range(arrlen - nums):\n",
    "        if arr[i + nums] > maxnums:\n",
    "            n = n + arr[i + nums]\n",
    "            isok = True\n",
    "            break\n",
    "\n",
    "    if not isok:\n",
    "        n = n + arr[arrlen - 1]            \n",
    "    \n",
    "    return n"
   ]
  },
  {
   "cell_type": "code",
   "execution_count": null,
   "id": "36c5a12e",
   "metadata": {},
   "outputs": [],
   "source": [
    "arr = randomList(genArr(100))\n",
    "\n",
    "arr"
   ]
  },
  {
   "cell_type": "code",
   "execution_count": null,
   "id": "e0c8632a",
   "metadata": {},
   "outputs": [],
   "source": [
    "n = proc37arr(10, arr)\n",
    "\n",
    "n"
   ]
  },
  {
   "cell_type": "code",
   "execution_count": null,
   "id": "0d5a4636",
   "metadata": {},
   "outputs": [],
   "source": [
    "def proc37(nums, arrlen, totalnums):\n",
    "    n = 0\n",
    "    \n",
    "    for j in range(totalnums):\n",
    "        arr = randomList(genArr(arrlen))\n",
    "        maxnums = 0\n",
    "        for i in range(nums):\n",
    "            if maxnums < arr[i]:\n",
    "                maxnums = arr[i]\n",
    "        \n",
    "        isok = False\n",
    "        for i in range(arrlen - nums):\n",
    "            if arr[i + nums] > maxnums:\n",
    "                n = n + arr[i + nums]\n",
    "                isok = True\n",
    "                break\n",
    "                \n",
    "        if not isok:\n",
    "            n = n + arr[arrlen - 1]            \n",
    "    \n",
    "    return n"
   ]
  },
  {
   "cell_type": "code",
   "execution_count": null,
   "id": "858fb4e6",
   "metadata": {},
   "outputs": [],
   "source": [
    "xarr = []\n",
    "yarr = []\n",
    "\n",
    "for i in range(100):\n",
    "    cc = proc37(i + 1, 100, 10000)\n",
    "    xarr.append(i + 1)\n",
    "    yarr.append(cc)\n",
    "    \n",
    "showBars2('最优解次数', xarr, yarr)"
   ]
  },
  {
   "cell_type": "code",
   "execution_count": null,
   "id": "81e62afb",
   "metadata": {},
   "outputs": [],
   "source": [
    "def genArr2(nums):\n",
    "    arr = []\n",
    "    \n",
    "    for i in range(nums):\n",
    "        arr.append(int(random.random() * nums) + 1)\n",
    "        \n",
    "    return arr\n",
    "\n",
    "def proc372(nums, arrlen, totalnums):\n",
    "    n = 0\n",
    "    \n",
    "    for j in range(totalnums):\n",
    "        arr = genArr2(arrlen)\n",
    "        maxnums = 0\n",
    "        for i in range(nums):\n",
    "            if maxnums < arr[i]:\n",
    "                maxnums = arr[i]\n",
    "        \n",
    "        isok = False\n",
    "        for i in range(arrlen - nums):\n",
    "            if arr[i + nums] > maxnums:\n",
    "                n = n + arr[i + nums]\n",
    "                isok = True\n",
    "                break\n",
    "                \n",
    "        if not isok:\n",
    "            n = n + arr[arrlen - 1]            \n",
    "    \n",
    "    return n"
   ]
  },
  {
   "cell_type": "code",
   "execution_count": null,
   "id": "2ebf9a8f",
   "metadata": {},
   "outputs": [],
   "source": [
    "xarr = []\n",
    "yarr = []\n",
    "\n",
    "for i in range(100):\n",
    "    cc = proc372(i + 1, 100, 10000)\n",
    "    xarr.append(i + 1)\n",
    "    yarr.append(cc)\n",
    "    \n",
    "showBars2('最优解次数', xarr, yarr)"
   ]
  },
  {
   "cell_type": "code",
   "execution_count": null,
   "id": "bd85d558",
   "metadata": {},
   "outputs": [],
   "source": [
    "arr = genArr2(100)\n",
    "\n",
    "arr"
   ]
  },
  {
   "cell_type": "code",
   "execution_count": null,
   "id": "3c22e26e",
   "metadata": {},
   "outputs": [],
   "source": [
    "def proc37arr2(nums, arr):\n",
    "    n = 0\n",
    "    arrlen = len(arr)\n",
    "    maxnums = 0\n",
    "    for i in range(nums):\n",
    "        if maxnums < arr[i]:\n",
    "            maxnums = arr[i]\n",
    "\n",
    "    isok = False\n",
    "    for i in range(arrlen - nums):\n",
    "        if arr[i + nums] > maxnums:\n",
    "            n = n + arr[i + nums]\n",
    "            isok = True\n",
    "            break\n",
    "\n",
    "    if not isok:\n",
    "        n = n + arr[arrlen - 1]            \n",
    "    \n",
    "    return n"
   ]
  },
  {
   "cell_type": "code",
   "execution_count": null,
   "id": "3bc06932",
   "metadata": {},
   "outputs": [],
   "source": [
    "n = proc37arr2(10, arr)\n",
    "\n",
    "n"
   ]
  },
  {
   "cell_type": "code",
   "execution_count": null,
   "id": "c2f9fe54",
   "metadata": {},
   "outputs": [],
   "source": [
    "xarr = []\n",
    "yarr = []\n",
    "\n",
    "for i in range(10):\n",
    "    cc = proc372(i + 1, 10, 10000)\n",
    "    xarr.append(i + 1)\n",
    "    yarr.append(cc)\n",
    "    \n",
    "showBars2('最优解次数', xarr, yarr)"
   ]
  },
  {
   "cell_type": "code",
   "execution_count": null,
   "id": "67121686",
   "metadata": {},
   "outputs": [],
   "source": [
    "def proc37v3(arrnums, arrlen, totalnums, winnum):\n",
    "    winarr = []\n",
    "    \n",
    "    for i in range(len(arrnums)):\n",
    "        winarr.append(0)\n",
    "    \n",
    "    for i in range(totalnums):\n",
    "        arr = randomList(genArr(arrlen))\n",
    "        \n",
    "        for j in range(len(arrnums)):\n",
    "            n = 0\n",
    "            maxnums = 0\n",
    "            for ti in range(arrnums[j]):\n",
    "                if maxnums < arr[ti]:\n",
    "                    maxnums = arr[ti]\n",
    "\n",
    "            isok = False\n",
    "            for ti in range(arrlen - arrnums[j]):\n",
    "                if arr[ti + arrnums[j]] > maxnums:\n",
    "                    n = n + arr[ti + arrnums[j]]\n",
    "                    isok = True\n",
    "                    break\n",
    "\n",
    "            if not isok:\n",
    "                n = n + arr[arrlen - 1]            \n",
    "                \n",
    "            if n >= winnum:\n",
    "                winarr[j] = winarr[j] + 1\n",
    "    \n",
    "    return winarr"
   ]
  },
  {
   "cell_type": "code",
   "execution_count": null,
   "id": "3690c364",
   "metadata": {},
   "outputs": [],
   "source": [
    "xarr = [1,2,3,4,5,6,7,8,9]\n",
    "winarr = proc37v3(xarr, 10, 100000, 10)\n",
    "\n",
    "showBars2('最优解次数', xarr, winarr)"
   ]
  },
  {
   "cell_type": "code",
   "execution_count": null,
   "id": "93dbb5c9",
   "metadata": {},
   "outputs": [],
   "source": [
    "xarr = [i + 1 for i in range(99)]\n",
    "winarr = proc37v3(xarr, 100, 100000, 100)\n",
    "\n",
    "showBars2('最优解次数', xarr, winarr)"
   ]
  },
  {
   "cell_type": "code",
   "execution_count": null,
   "id": "f8d68128",
   "metadata": {},
   "outputs": [],
   "source": [
    "xarr = [i + 1 for i in range(9)]\n",
    "winarr = proc37v3(xarr, 10, 100000, 6)\n",
    "\n",
    "showBars2('最优解次数', xarr, winarr)"
   ]
  },
  {
   "cell_type": "code",
   "execution_count": null,
   "id": "5dd9a9fa",
   "metadata": {},
   "outputs": [],
   "source": [
    "xarr = [i + 1 for i in range(99)]\n",
    "winarr = proc37v3(xarr, 100, 100000, 70)\n",
    "\n",
    "showBars2('最优解次数', xarr, winarr)"
   ]
  },
  {
   "cell_type": "code",
   "execution_count": null,
   "id": "e8d0d717",
   "metadata": {},
   "outputs": [],
   "source": [
    "xarr = [i + 1 for i in range(99)]\n",
    "winarr = proc37v3(xarr, 100, 100000, 100)\n",
    "winarr2 = np.array(winarr)\n",
    "\n",
    "showBars2('最优解概率', xarr, winarr2 / 100000)"
   ]
  }
 ],
 "metadata": {
  "kernelspec": {
   "display_name": "Python 3 (ipykernel)",
   "language": "python",
   "name": "python3"
  },
  "language_info": {
   "codemirror_mode": {
    "name": "ipython",
    "version": 3
   },
   "file_extension": ".py",
   "mimetype": "text/x-python",
   "name": "python",
   "nbconvert_exporter": "python",
   "pygments_lexer": "ipython3",
   "version": "3.9.7"
  }
 },
 "nbformat": 4,
 "nbformat_minor": 5
}
