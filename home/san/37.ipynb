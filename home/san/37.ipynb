{
 "cells": [
  {
   "cell_type": "code",
   "execution_count": null,
   "id": "0465ebbc",
   "metadata": {},
   "outputs": [],
   "source": [
    "import pandas as pd\n",
    "import plotly.graph_objects as go\n",
    "import random\n",
    "\n",
    "random.seed()"
   ]
  },
  {
   "cell_type": "code",
   "execution_count": null,
   "id": "2f0a96ca",
   "metadata": {},
   "outputs": [],
   "source": [
    "def proc21(nums, totalnums):\n",
    "    n = 0\n",
    "    \n",
    "    for i in range(totalnums):\n",
    "        cr = int(random.random() * 100)\n",
    "        if cr >= nums:\n",
    "            n = n + 1\n",
    "    \n",
    "    return n"
   ]
  },
  {
   "cell_type": "code",
   "execution_count": null,
   "id": "c9b518ba",
   "metadata": {},
   "outputs": [],
   "source": [
    "def showBars2(name, xarr, yarr):\n",
    "    fig = go.Figure()\n",
    "            \n",
    "    fig.add_trace(go.Bar(\n",
    "        x=xarr,\n",
    "        y=yarr,\n",
    "        name=name,\n",
    "    ))            \n",
    "\n",
    "    fig.update_layout(barmode='group', xaxis_tickangle=-45)\n",
    "    fig.show()"
   ]
  },
  {
   "cell_type": "code",
   "execution_count": null,
   "id": "77adc574",
   "metadata": {},
   "outputs": [],
   "source": [
    "xarr = []\n",
    "yarr = []\n",
    "\n",
    "for i in range(100):\n",
    "    cc = proc21(i + 1, 100)\n",
    "    xarr.append(i + 1)\n",
    "    yarr.append(cc)\n",
    "    \n",
    "showBars2('最优解次数', xarr, yarr)"
   ]
  },
  {
   "cell_type": "code",
   "execution_count": null,
   "id": "f422663a",
   "metadata": {},
   "outputs": [],
   "source": [
    "def randomList(arr):\n",
    "    narr = []\n",
    "    \n",
    "    for i in range(len(arr)):\n",
    "        r = int(random.random() * len(arr))\n",
    "        narr.append(arr[r])\n",
    "        del arr[r]\n",
    "    \n",
    "    return narr\n",
    "\n",
    "def genArr(nums):\n",
    "    arr = []\n",
    "    \n",
    "    for i in range(nums):\n",
    "        arr.append(i + 1)\n",
    "        \n",
    "    return arr"
   ]
  },
  {
   "cell_type": "code",
   "execution_count": null,
   "id": "4f33f363",
   "metadata": {},
   "outputs": [],
   "source": [
    "def proc37arr(nums, arr):\n",
    "    n = 0\n",
    "    arrlen = len(arr)\n",
    "    maxnums = 0\n",
    "    for i in range(nums):\n",
    "        if maxnums < arr[i]:\n",
    "            maxnums = arr[i]\n",
    "\n",
    "    isok = False\n",
    "    for i in range(arrlen - nums):\n",
    "        if arr[i + nums] > maxnums:\n",
    "            n = n + arr[i + nums]\n",
    "            isok = True\n",
    "            break\n",
    "\n",
    "    if not isok:\n",
    "        n = n + arr[arrlen - 1]            \n",
    "    \n",
    "    return n"
   ]
  },
  {
   "cell_type": "code",
   "execution_count": null,
   "id": "36c5a12e",
   "metadata": {},
   "outputs": [],
   "source": [
    "arr = randomList(genArr(100))\n",
    "\n",
    "arr"
   ]
  },
  {
   "cell_type": "code",
   "execution_count": null,
   "id": "e0c8632a",
   "metadata": {},
   "outputs": [],
   "source": [
    "n = proc37arr(10, arr)\n",
    "\n",
    "n"
   ]
  },
  {
   "cell_type": "code",
   "execution_count": null,
   "id": "0d5a4636",
   "metadata": {},
   "outputs": [],
   "source": [
    "def proc37(nums, arrlen, totalnums):\n",
    "    n = 0\n",
    "    \n",
    "    for i in range(totalnums):\n",
    "        arr = randomList(genArr(arrlen))\n",
    "        maxnums = 0\n",
    "        for i in range(nums):\n",
    "            if maxnums < arr[i]:\n",
    "                maxnums = arr[i]\n",
    "        \n",
    "        isok = False\n",
    "        for i in range(arrlen - nums):\n",
    "            if arr[i + nums] > maxnums:\n",
    "                n = n + arr[i + nums]\n",
    "                isok = True\n",
    "                break\n",
    "                \n",
    "        if not isok:\n",
    "            n = n + arr[arrlen - 1]            \n",
    "    \n",
    "    return n"
   ]
  },
  {
   "cell_type": "code",
   "execution_count": null,
   "id": "858fb4e6",
   "metadata": {},
   "outputs": [],
   "source": [
    "xarr = []\n",
    "yarr = []\n",
    "\n",
    "for i in range(100):\n",
    "    cc = proc37(i + 1, 100, 10000)\n",
    "    xarr.append(i + 1)\n",
    "    yarr.append(cc)\n",
    "    \n",
    "showBars2('最优解次数', xarr, yarr)"
   ]
  },
  {
   "cell_type": "code",
   "execution_count": null,
   "id": "81e62afb",
   "metadata": {},
   "outputs": [],
   "source": [
    "def genArr2(nums):\n",
    "    arr = []\n",
    "    \n",
    "    for i in range(nums):\n",
    "        arr.append(int(random.random() * nums) + 1)\n",
    "        \n",
    "    return arr\n",
    "\n",
    "def proc372(nums, arrlen, totalnums):\n",
    "    n = 0\n",
    "    \n",
    "    for i in range(totalnums):\n",
    "        arr = genArr2(arrlen)\n",
    "        maxnums = 0\n",
    "        for i in range(nums):\n",
    "            if maxnums < arr[i]:\n",
    "                maxnums = arr[i]\n",
    "        \n",
    "        isok = False\n",
    "        for i in range(arrlen - nums):\n",
    "            if arr[i + nums] > maxnums:\n",
    "                n = n + arr[i + nums]\n",
    "                isok = True\n",
    "                break\n",
    "                \n",
    "        if not isok:\n",
    "            n = n + arr[arrlen - 1]            \n",
    "    \n",
    "    return n"
   ]
  },
  {
   "cell_type": "code",
   "execution_count": null,
   "id": "2ebf9a8f",
   "metadata": {},
   "outputs": [],
   "source": [
    "xarr = []\n",
    "yarr = []\n",
    "\n",
    "for i in range(100):\n",
    "    cc = proc372(i + 1, 100, 10000)\n",
    "    xarr.append(i + 1)\n",
    "    yarr.append(cc)\n",
    "    \n",
    "showBars2('最优解次数', xarr, yarr)"
   ]
  },
  {
   "cell_type": "code",
   "execution_count": null,
   "id": "bd85d558",
   "metadata": {},
   "outputs": [],
   "source": [
    "arr = genArr2(100)\n",
    "\n",
    "arr"
   ]
  },
  {
   "cell_type": "code",
   "execution_count": null,
   "id": "3c22e26e",
   "metadata": {},
   "outputs": [],
   "source": [
    "def proc37arr2(nums, arr):\n",
    "    n = 0\n",
    "    arrlen = len(arr)\n",
    "    maxnums = 0\n",
    "    for i in range(nums):\n",
    "        if maxnums < arr[i]:\n",
    "            maxnums = arr[i]\n",
    "\n",
    "    isok = False\n",
    "    for i in range(arrlen - nums):\n",
    "        if arr[i + nums] > maxnums:\n",
    "            n = n + arr[i + nums]\n",
    "            isok = True\n",
    "            break\n",
    "\n",
    "    if not isok:\n",
    "        n = n + arr[arrlen - 1]            \n",
    "    \n",
    "    return n"
   ]
  },
  {
   "cell_type": "code",
   "execution_count": null,
   "id": "3bc06932",
   "metadata": {},
   "outputs": [],
   "source": [
    "n = proc37arr2(10, arr)\n",
    "\n",
    "n"
   ]
  },
  {
   "cell_type": "code",
   "execution_count": null,
   "id": "c2f9fe54",
   "metadata": {},
   "outputs": [],
   "source": []
  }
 ],
 "metadata": {
  "kernelspec": {
   "display_name": "Python 3 (ipykernel)",
   "language": "python",
   "name": "python3"
  },
  "language_info": {
   "codemirror_mode": {
    "name": "ipython",
    "version": 3
   },
   "file_extension": ".py",
   "mimetype": "text/x-python",
   "name": "python",
   "nbconvert_exporter": "python",
   "pygments_lexer": "ipython3",
   "version": "3.9.7"
  }
 },
 "nbformat": 4,
 "nbformat_minor": 5
}
