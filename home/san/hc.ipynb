{
 "cells": [
  {
   "cell_type": "code",
   "execution_count": 1,
   "id": "c904eb92",
   "metadata": {},
   "outputs": [],
   "source": [
    "import pandas as pd\n",
    "import numpy as np\n",
    "import plotly.graph_objects as go\n",
    "import random\n",
    "\n",
    "random.seed()"
   ]
  },
  {
   "cell_type": "code",
   "execution_count": null,
   "id": "e73f7f4f",
   "metadata": {},
   "outputs": [],
   "source": [
    "# 随机生成卡牌\n",
    "def gencard_normal(cardtype, cardlevel, scenearr, gentimes, startcost):\n",
    "    cr = int(random.random() * cardtype)\n",
    "    return (cr + 1) * 100 + 1, startcost\n",
    "\n",
    "def getGenCardIndex(scenearr):\n",
    "    for i in range(len(scenearr)):\n",
    "        if scenearr[i] == 0:\n",
    "            return i\n",
    "    \n",
    "    return -1\n",
    "\n",
    "def comboCards(scenearr):\n",
    "    for i in range(len(scenearr) - 1):\n",
    "        if scenearr[i] == 0:\n",
    "            continue\n",
    "        \n",
    "        for j in range(i + 1, len(scenearr)):\n",
    "            if i != j and scenearr[i] == scenearr[j]:\n",
    "                ct = int(scenearr[i] / 100)\n",
    "                cl = scenearr[i] % 100\n",
    "                \n",
    "                scenearr[i] = ct * 100 + cl + 1\n",
    "                scenearr[j] = 0\n",
    "                \n",
    "                return True\n",
    "    \n",
    "    return False\n",
    "\n",
    "def procScene(funcGen, cardtype, cardlevel, scenearr, gentimes, startcost):\n",
    "    "
   ]
  }
 ],
 "metadata": {
  "kernelspec": {
   "display_name": "Python 3 (ipykernel)",
   "language": "python",
   "name": "python3"
  },
  "language_info": {
   "codemirror_mode": {
    "name": "ipython",
    "version": 3
   },
   "file_extension": ".py",
   "mimetype": "text/x-python",
   "name": "python",
   "nbconvert_exporter": "python",
   "pygments_lexer": "ipython3",
   "version": "3.9.7"
  }
 },
 "nbformat": 4,
 "nbformat_minor": 5
}
