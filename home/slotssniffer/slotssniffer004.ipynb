{
 "cells": [
  {
   "cell_type": "code",
   "execution_count": 1,
   "id": "cbaad5aa",
   "metadata": {},
   "outputs": [],
   "source": [
    "import json\n",
    "import os\n",
    "import string\n",
    "import pandas as pd\n",
    "import plotly.graph_objects as go\n",
    "import datautils4\n",
    "\n",
    "pd.options.display.max_columns = None\n",
    "pd.options.display.max_rows = None"
   ]
  },
  {
   "cell_type": "code",
   "execution_count": 2,
   "id": "bc964fa3-7788-4747-8db1-538513658344",
   "metadata": {},
   "outputs": [],
   "source": [
    "stats = datautils4.loadjson('./stats_banker.json')"
   ]
  },
  {
   "cell_type": "code",
   "execution_count": 3,
   "id": "51f08180",
   "metadata": {},
   "outputs": [
    {
     "data": {
      "text/html": [
       "<div>\n",
       "<style scoped>\n",
       "    .dataframe tbody tr th:only-of-type {\n",
       "        vertical-align: middle;\n",
       "    }\n",
       "\n",
       "    .dataframe tbody tr th {\n",
       "        vertical-align: top;\n",
       "    }\n",
       "\n",
       "    .dataframe thead th {\n",
       "        text-align: right;\n",
       "    }\n",
       "</style>\n",
       "<table border=\"1\" class=\"dataframe\">\n",
       "  <thead>\n",
       "    <tr style=\"text-align: right;\">\n",
       "      <th></th>\n",
       "      <th>gamemodule</th>\n",
       "      <th>rtp</th>\n",
       "    </tr>\n",
       "  </thead>\n",
       "  <tbody>\n",
       "    <tr>\n",
       "      <th>0</th>\n",
       "      <td>base game</td>\n",
       "      <td>43.11221</td>\n",
       "    </tr>\n",
       "    <tr>\n",
       "      <th>1</th>\n",
       "      <td>free game</td>\n",
       "      <td>36.37811</td>\n",
       "    </tr>\n",
       "    <tr>\n",
       "      <th>2</th>\n",
       "      <td>base game car</td>\n",
       "      <td>1.69607</td>\n",
       "    </tr>\n",
       "    <tr>\n",
       "      <th>3</th>\n",
       "      <td>free game car</td>\n",
       "      <td>0.00000</td>\n",
       "    </tr>\n",
       "    <tr>\n",
       "      <th>4</th>\n",
       "      <td>instant wins</td>\n",
       "      <td>18.59030</td>\n",
       "    </tr>\n",
       "    <tr>\n",
       "      <th>5</th>\n",
       "      <td>instant wins car</td>\n",
       "      <td>2.50000</td>\n",
       "    </tr>\n",
       "    <tr>\n",
       "      <th>6</th>\n",
       "      <td>total</td>\n",
       "      <td>102.27669</td>\n",
       "    </tr>\n",
       "  </tbody>\n",
       "</table>\n",
       "</div>"
      ],
      "text/plain": [
       "         gamemodule        rtp\n",
       "0         base game   43.11221\n",
       "1         free game   36.37811\n",
       "2     base game car    1.69607\n",
       "3     free game car    0.00000\n",
       "4      instant wins   18.59030\n",
       "5  instant wins car    2.50000\n",
       "6             total  102.27669"
      ]
     },
     "execution_count": 3,
     "metadata": {},
     "output_type": "execute_result"
    }
   ],
   "source": [
    "# This is the RTP\n",
    "# Since the total amount of data is only 1 million, \n",
    "# the rtp feels within a reasonable range\n",
    "\n",
    "rtps = datautils4.genRTPs(stats)\n",
    "\n",
    "rtps"
   ]
  },
  {
   "cell_type": "code",
   "execution_count": 4,
   "id": "f7b0af89",
   "metadata": {},
   "outputs": [
    {
     "data": {
      "text/html": [
       "<div>\n",
       "<style scoped>\n",
       "    .dataframe tbody tr th:only-of-type {\n",
       "        vertical-align: middle;\n",
       "    }\n",
       "\n",
       "    .dataframe tbody tr th {\n",
       "        vertical-align: top;\n",
       "    }\n",
       "\n",
       "    .dataframe thead th {\n",
       "        text-align: right;\n",
       "    }\n",
       "</style>\n",
       "<table border=\"1\" class=\"dataframe\">\n",
       "  <thead>\n",
       "    <tr style=\"text-align: right;\">\n",
       "      <th></th>\n",
       "      <th>symbol</th>\n",
       "      <th>weight</th>\n",
       "    </tr>\n",
       "  </thead>\n",
       "  <tbody>\n",
       "    <tr>\n",
       "      <th>1</th>\n",
       "      <td>COIN</td>\n",
       "      <td>0.847625</td>\n",
       "    </tr>\n",
       "    <tr>\n",
       "      <th>0</th>\n",
       "      <td>COIN_MULT</td>\n",
       "      <td>0.152375</td>\n",
       "    </tr>\n",
       "  </tbody>\n",
       "</table>\n",
       "</div>"
      ],
      "text/plain": [
       "      symbol    weight\n",
       "1       COIN  0.847625\n",
       "0  COIN_MULT  0.152375"
      ]
     },
     "execution_count": 4,
     "metadata": {},
     "output_type": "execute_result"
    }
   ],
   "source": [
    "# This is the weight of mystery in basegame\n",
    "\n",
    "bgMystery = datautils4.genMystery(stats, 'baseGame')\n",
    "\n",
    "bgMystery.sort_values(by='symbol')"
   ]
  },
  {
   "cell_type": "code",
   "execution_count": 5,
   "id": "c15a9ca9-0334-4c70-ab3b-ae7e6d4584bf",
   "metadata": {},
   "outputs": [
    {
     "data": {
      "text/html": [
       "<div>\n",
       "<style scoped>\n",
       "    .dataframe tbody tr th:only-of-type {\n",
       "        vertical-align: middle;\n",
       "    }\n",
       "\n",
       "    .dataframe tbody tr th {\n",
       "        vertical-align: top;\n",
       "    }\n",
       "\n",
       "    .dataframe thead th {\n",
       "        text-align: right;\n",
       "    }\n",
       "</style>\n",
       "<table border=\"1\" class=\"dataframe\">\n",
       "  <thead>\n",
       "    <tr style=\"text-align: right;\">\n",
       "      <th></th>\n",
       "      <th>symbol</th>\n",
       "      <th>weight</th>\n",
       "    </tr>\n",
       "  </thead>\n",
       "  <tbody>\n",
       "    <tr>\n",
       "      <th>3</th>\n",
       "      <td>H1</td>\n",
       "      <td>0.589574</td>\n",
       "    </tr>\n",
       "    <tr>\n",
       "      <th>4</th>\n",
       "      <td>H2</td>\n",
       "      <td>0.099724</td>\n",
       "    </tr>\n",
       "    <tr>\n",
       "      <th>0</th>\n",
       "      <td>L1</td>\n",
       "      <td>0.004785</td>\n",
       "    </tr>\n",
       "    <tr>\n",
       "      <th>6</th>\n",
       "      <td>L2</td>\n",
       "      <td>0.004650</td>\n",
       "    </tr>\n",
       "    <tr>\n",
       "      <th>7</th>\n",
       "      <td>L3</td>\n",
       "      <td>0.004474</td>\n",
       "    </tr>\n",
       "    <tr>\n",
       "      <th>5</th>\n",
       "      <td>L4</td>\n",
       "      <td>0.004524</td>\n",
       "    </tr>\n",
       "    <tr>\n",
       "      <th>2</th>\n",
       "      <td>M1</td>\n",
       "      <td>0.020582</td>\n",
       "    </tr>\n",
       "    <tr>\n",
       "      <th>1</th>\n",
       "      <td>M2</td>\n",
       "      <td>0.020016</td>\n",
       "    </tr>\n",
       "    <tr>\n",
       "      <th>8</th>\n",
       "      <td>WILD</td>\n",
       "      <td>0.251672</td>\n",
       "    </tr>\n",
       "  </tbody>\n",
       "</table>\n",
       "</div>"
      ],
      "text/plain": [
       "  symbol    weight\n",
       "3     H1  0.589574\n",
       "4     H2  0.099724\n",
       "0     L1  0.004785\n",
       "6     L2  0.004650\n",
       "7     L3  0.004474\n",
       "5     L4  0.004524\n",
       "2     M1  0.020582\n",
       "1     M2  0.020016\n",
       "8   WILD  0.251672"
      ]
     },
     "execution_count": 5,
     "metadata": {},
     "output_type": "execute_result"
    }
   ],
   "source": [
    "# This is the weight of mystery in freegame\n",
    "\n",
    "fgMystery = datautils4.genMystery(stats, 'freeGame')\n",
    "\n",
    "fgMystery.sort_values(by='symbol')"
   ]
  },
  {
   "cell_type": "code",
   "execution_count": 6,
   "id": "14c7bd84-c21b-480d-a4cd-507d683cc650",
   "metadata": {},
   "outputs": [
    {
     "ename": "KeyError",
     "evalue": "'betMultiplier'",
     "output_type": "error",
     "traceback": [
      "\u001b[0;31m---------------------------------------------------------------------------\u001b[0m",
      "\u001b[0;31mKeyError\u001b[0m                                  Traceback (most recent call last)",
      "Cell \u001b[0;32mIn[6], line 3\u001b[0m\n\u001b[1;32m      1\u001b[0m \u001b[38;5;66;03m# This is the weight of lightning in basegame\u001b[39;00m\n\u001b[0;32m----> 3\u001b[0m bgLightning \u001b[38;5;241m=\u001b[39m \u001b[43mdatautils4\u001b[49m\u001b[38;5;241;43m.\u001b[39;49m\u001b[43mgenLightning\u001b[49m\u001b[43m(\u001b[49m\u001b[43mstats\u001b[49m\u001b[43m,\u001b[49m\u001b[43m \u001b[49m\u001b[38;5;124;43m'\u001b[39;49m\u001b[38;5;124;43mbaseGame\u001b[39;49m\u001b[38;5;124;43m'\u001b[39;49m\u001b[43m)\u001b[49m\n\u001b[1;32m      5\u001b[0m bgLightning\u001b[38;5;241m.\u001b[39msort_values(by\u001b[38;5;241m=\u001b[39m[\u001b[38;5;124m'\u001b[39m\u001b[38;5;124mvalue\u001b[39m\u001b[38;5;124m'\u001b[39m])\n",
      "File \u001b[0;32m~/slotssniffer/datautils4.py:61\u001b[0m, in \u001b[0;36mgenLightning\u001b[0;34m(stats, gamemod)\u001b[0m\n\u001b[1;32m     58\u001b[0m \u001b[38;5;28;01mdef\u001b[39;00m \u001b[38;5;21mgenLightning\u001b[39m(stats, gamemod):\n\u001b[1;32m     59\u001b[0m     data \u001b[38;5;241m=\u001b[39m {\u001b[38;5;124m'\u001b[39m\u001b[38;5;124mvalue\u001b[39m\u001b[38;5;124m'\u001b[39m:[], \u001b[38;5;124m'\u001b[39m\u001b[38;5;124mweight\u001b[39m\u001b[38;5;124m'\u001b[39m: []}\n\u001b[0;32m---> 61\u001b[0m     \u001b[38;5;28;01mfor\u001b[39;00m v \u001b[38;5;129;01min\u001b[39;00m \u001b[43mstats\u001b[49m\u001b[43m[\u001b[49m\u001b[43mgamemod\u001b[49m\u001b[43m]\u001b[49m\u001b[43m[\u001b[49m\u001b[38;5;124;43m'\u001b[39;49m\u001b[38;5;124;43mbetMultiplier\u001b[39;49m\u001b[38;5;124;43m'\u001b[39;49m\u001b[43m]\u001b[49m[\u001b[38;5;124m'\u001b[39m\u001b[38;5;124msymbolValue\u001b[39m\u001b[38;5;124m'\u001b[39m]:\n\u001b[1;32m     62\u001b[0m         data[\u001b[38;5;124m'\u001b[39m\u001b[38;5;124mvalue\u001b[39m\u001b[38;5;124m'\u001b[39m]\u001b[38;5;241m.\u001b[39mappend(v[\u001b[38;5;124m'\u001b[39m\u001b[38;5;124mValue\u001b[39m\u001b[38;5;124m'\u001b[39m])\n\u001b[1;32m     63\u001b[0m         data[\u001b[38;5;124m'\u001b[39m\u001b[38;5;124mweight\u001b[39m\u001b[38;5;124m'\u001b[39m]\u001b[38;5;241m.\u001b[39mappend(\u001b[38;5;28mfloat\u001b[39m(v[\u001b[38;5;124m'\u001b[39m\u001b[38;5;124mWeight\u001b[39m\u001b[38;5;124m'\u001b[39m]))\n",
      "\u001b[0;31mKeyError\u001b[0m: 'betMultiplier'"
     ]
    }
   ],
   "source": [
    "# This is the weight of lightning in basegame\n",
    "\n",
    "bgLightning = datautils4.genLightning(stats, 'baseGame')\n",
    "\n",
    "bgLightning.sort_values(by=['value'])"
   ]
  },
  {
   "cell_type": "code",
   "execution_count": null,
   "id": "3b3438de-6521-4e59-93e0-1f6d4faaa6a4",
   "metadata": {},
   "outputs": [],
   "source": [
    "# This is the weight of lightning in freegame\n",
    "\n",
    "fgLightning = datautils4.genLightning(stats, 'freeGame')\n",
    "\n",
    "fgLightning.sort_values(by=['value'])"
   ]
  },
  {
   "cell_type": "code",
   "execution_count": null,
   "id": "297e5635",
   "metadata": {
    "tags": []
   },
   "outputs": [],
   "source": [
    "# This is the winnings for the game\n",
    "\n",
    "wins = datautils4.genDataframeWinnings(stats, None)\n",
    "\n",
    "wins.sort_values(by=['winnings'])"
   ]
  },
  {
   "cell_type": "code",
   "execution_count": null,
   "id": "9f8ec864-9109-415e-908c-6759d2b48b21",
   "metadata": {},
   "outputs": [],
   "source": [
    "wins2 = datautils4.genDataframeWinningsEx(stats, None, [0, 1, 2, 3, 5, 10, 20, 30, 50, 100, 200, 300, 500, 1000])\n",
    "\n",
    "datautils4.showWinningsPie(wins2)"
   ]
  },
  {
   "cell_type": "code",
   "execution_count": null,
   "id": "ecbb8087-a875-407e-8ece-33196e76f79c",
   "metadata": {
    "tags": []
   },
   "outputs": [],
   "source": [
    "# This is the winnings for the basegame\n",
    "\n",
    "wins = datautils4.genDataframeWinnings(stats, 'baseGame')\n",
    "\n",
    "wins.sort_values(by=['winnings'])"
   ]
  },
  {
   "cell_type": "code",
   "execution_count": null,
   "id": "2fa4abaf-d47e-468c-8167-716d7ed31109",
   "metadata": {},
   "outputs": [],
   "source": [
    "wins2 = datautils4.genDataframeWinningsEx(stats, 'baseGame', [0, 1, 2, 3, 5, 10, 20, 30, 50, 100, 200, 300, 500, 1000])\n",
    "\n",
    "datautils4.showWinningsPie(wins2)"
   ]
  },
  {
   "cell_type": "code",
   "execution_count": null,
   "id": "b57f4dc8-c361-4021-bf95-dd9a83799102",
   "metadata": {
    "tags": []
   },
   "outputs": [],
   "source": [
    "# This is the winnings for the freegame\n",
    "\n",
    "wins = datautils4.genDataframeWinnings(stats, 'freeGame')\n",
    "\n",
    "wins.sort_values(by=['winnings'])"
   ]
  },
  {
   "cell_type": "code",
   "execution_count": null,
   "id": "5e5fdff3-c7cd-43cd-bb24-382da38aacbd",
   "metadata": {},
   "outputs": [],
   "source": [
    "wins2 = datautils4.genDataframeWinningsEx(stats, 'freeGame', [0, 1, 2, 3, 5, 10, 20, 30, 50, 100, 200, 300, 500, 1000])\n",
    "\n",
    "datautils4.showWinningsPie(wins2)"
   ]
  },
  {
   "cell_type": "code",
   "execution_count": null,
   "id": "6e743041",
   "metadata": {},
   "outputs": [],
   "source": [
    "bgsymbolwins = datautils4.genSymbolWins(stats, 'baseGame')\n",
    "\n",
    "bgsymbolwins.sort_values(by='symbol')"
   ]
  },
  {
   "cell_type": "code",
   "execution_count": null,
   "id": "7056e106",
   "metadata": {},
   "outputs": [],
   "source": [
    "fgsymbolwins = datautils4.genSymbolWins(stats, 'freeGame')\n",
    "\n",
    "fgsymbolwins.sort_values(by='symbol')"
   ]
  },
  {
   "cell_type": "code",
   "execution_count": null,
   "id": "4bd6e67f-b359-436c-b884-569a9a7e8870",
   "metadata": {
    "tags": []
   },
   "outputs": [],
   "source": [
    "bgdynamicsymbolweights = datautils4.genDynamicSymbolWeights(stats, 'baseGame')\n",
    "\n",
    "bgdynamicsymbolweights.sort_values(by='symbol')"
   ]
  },
  {
   "cell_type": "code",
   "execution_count": null,
   "id": "7aefac2f-99b4-40dd-9283-5c4f0568ffc4",
   "metadata": {
    "tags": []
   },
   "outputs": [],
   "source": [
    "fgdynamicsymbolweights = datautils4.genDynamicSymbolWeights(stats, 'freeGame')\n",
    "\n",
    "fgdynamicsymbolweights.sort_values(by='symbol')"
   ]
  }
 ],
 "metadata": {
  "kernelspec": {
   "display_name": "Python 3 (ipykernel)",
   "language": "python",
   "name": "python3"
  },
  "language_info": {
   "codemirror_mode": {
    "name": "ipython",
    "version": 3
   },
   "file_extension": ".py",
   "mimetype": "text/x-python",
   "name": "python",
   "nbconvert_exporter": "python",
   "pygments_lexer": "ipython3",
   "version": "3.10.9"
  }
 },
 "nbformat": 4,
 "nbformat_minor": 5
}
