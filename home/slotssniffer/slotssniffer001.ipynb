{
 "cells": [
  {
   "cell_type": "code",
   "execution_count": null,
   "id": "cbaad5aa",
   "metadata": {},
   "outputs": [],
   "source": [
    "import json\n",
    "import os\n",
    "import string\n",
    "import pandas as pd\n",
    "import plotly.graph_objects as go\n",
    "import datautils\n",
    "\n",
    "# pd.set_option('max_columns', None)\n",
    "pd.options.display.max_columns = None\n",
    "pd.options.display.max_rows = None\n",
    "# pd.set_option('max_row', None)"
   ]
  },
  {
   "cell_type": "code",
   "execution_count": null,
   "id": "2974b1e1",
   "metadata": {},
   "outputs": [],
   "source": [
    "lstbg, lstfg = datautils.loadAllFiles()"
   ]
  },
  {
   "cell_type": "code",
   "execution_count": null,
   "id": "51f08180",
   "metadata": {},
   "outputs": [],
   "source": [
    "dfreels = datautils.genDataframeModeReels(lstbg, lstfg)\n",
    "\n",
    "dfreels"
   ]
  },
  {
   "cell_type": "code",
   "execution_count": null,
   "id": "f7b0af89",
   "metadata": {},
   "outputs": [],
   "source": [
    "wins = datautils.genDataframeWinnings(lstbg, lstfg)\n",
    "\n",
    "wins.sort_values(by='winnings')"
   ]
  },
  {
   "cell_type": "code",
   "execution_count": null,
   "id": "297e5635",
   "metadata": {},
   "outputs": [],
   "source": [
    "wins2 = datautils.genDataframeWinningsEx(lstbg, lstfg, [0, 1, 2, 3, 5, 10, 20, 30, 50, 100, 200, 300, 500, 1000])\n",
    "\n",
    "datautils.showWinningsPie(wins2)"
   ]
  },
  {
   "cell_type": "code",
   "execution_count": null,
   "id": "be88c044",
   "metadata": {},
   "outputs": [],
   "source": [
    "dfsymbols = datautils.genDataframeSymbols(lstbg, lstfg)\n",
    "\n",
    "dfsymbols.sort_values(by='Symbol')"
   ]
  },
  {
   "cell_type": "code",
   "execution_count": null,
   "id": "6e743041",
   "metadata": {},
   "outputs": [],
   "source": [
    "dfsymbolwin = datautils.genSymbolWins(lstbg, lstfg)\n",
    "\n",
    "lst = list(dfsymbolwin.columns)\n",
    "lst.sort()\n",
    "dfsymbolwin[lst].sort_values(by=' Symbol')"
   ]
  },
  {
   "cell_type": "code",
   "execution_count": null,
   "id": "7056e106",
   "metadata": {},
   "outputs": [],
   "source": [
    "dfmystery = datautils.genMysterySymbolReveal(lstbg, lstfg)\n",
    "\n",
    "dfmystery.sort_values(by='MysterySymbolReveal')"
   ]
  },
  {
   "cell_type": "code",
   "execution_count": null,
   "id": "f94bfba1",
   "metadata": {},
   "outputs": [],
   "source": [
    "dfMysterySymbolSize = datautils.genMysterySymbolSize(lstbg, lstfg)\n",
    "\n",
    "dfMysterySymbolSize"
   ]
  },
  {
   "cell_type": "code",
   "execution_count": null,
   "id": "fa6d98f3",
   "metadata": {},
   "outputs": [],
   "source": [
    "# lstm = datautils.findMystery(lstbg)\n",
    "\n",
    "# lstbg[1]"
   ]
  },
  {
   "cell_type": "code",
   "execution_count": null,
   "id": "b8ba638d",
   "metadata": {},
   "outputs": [],
   "source": []
  }
 ],
 "metadata": {
  "kernelspec": {
   "display_name": "Python 3 (ipykernel)",
   "language": "python",
   "name": "python3"
  },
  "language_info": {
   "codemirror_mode": {
    "name": "ipython",
    "version": 3
   },
   "file_extension": ".py",
   "mimetype": "text/x-python",
   "name": "python",
   "nbconvert_exporter": "python",
   "pygments_lexer": "ipython3",
   "version": "3.10.8"
  }
 },
 "nbformat": 4,
 "nbformat_minor": 5
}
