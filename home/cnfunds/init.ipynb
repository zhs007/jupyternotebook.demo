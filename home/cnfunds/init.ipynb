{
 "cells": [
  {
   "cell_type": "markdown",
   "metadata": {},
   "source": [
    "初始化，安装必须的依赖库，生成proto文件。\n",
    "\n",
    "最好在执行其它笔记最开始执行这个。"
   ]
  },
  {
   "cell_type": "code",
   "execution_count": 1,
   "metadata": {},
   "outputs": [
    {
     "name": "stdout",
     "output_type": "stream",
     "text": [
      "Requirement already satisfied: pyyaml in /opt/conda/lib/python3.8/site-packages (5.3.1)\n",
      "Requirement already satisfied: grpcio in /opt/conda/lib/python3.8/site-packages (1.33.1)\n",
      "Requirement already satisfied: six>=1.5.2 in /opt/conda/lib/python3.8/site-packages (from grpcio) (1.15.0)\n",
      "Requirement already satisfied: grpcio-tools in /opt/conda/lib/python3.8/site-packages (1.33.1)\n",
      "Requirement already satisfied: protobuf<4.0dev,>=3.5.0.post1 in /opt/conda/lib/python3.8/site-packages (from grpcio-tools) (3.12.4)\n",
      "Requirement already satisfied: grpcio>=1.33.1 in /opt/conda/lib/python3.8/site-packages (from grpcio-tools) (1.33.1)\n",
      "Requirement already satisfied: six>=1.9 in /opt/conda/lib/python3.8/site-packages (from protobuf<4.0dev,>=3.5.0.post1->grpcio-tools) (1.15.0)\n",
      "Requirement already satisfied: setuptools in /opt/conda/lib/python3.8/site-packages (from protobuf<4.0dev,>=3.5.0.post1->grpcio-tools) (49.6.0.post20201009)\n"
     ]
    }
   ],
   "source": [
    "!python -m grpc_tools.protoc --python_out=. --grpc_python_out=. -I. tradingdb2.proto"
   ]
  },
  {
   "cell_type": "code",
   "execution_count": null,
   "metadata": {},
   "outputs": [],
   "source": []
  }
 ],
 "metadata": {
  "kernelspec": {
   "display_name": "Python 3",
   "language": "python",
   "name": "python3"
  },
  "language_info": {
   "codemirror_mode": {
    "name": "ipython",
    "version": 3
   },
   "file_extension": ".py",
   "mimetype": "text/x-python",
   "name": "python",
   "nbconvert_exporter": "python",
   "pygments_lexer": "ipython3",
   "version": "3.8.5"
  }
 },
 "nbformat": 4,
 "nbformat_minor": 4
}
