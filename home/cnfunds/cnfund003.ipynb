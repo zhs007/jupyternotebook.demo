{
 "cells": [
  {
   "cell_type": "markdown",
   "metadata": {},
   "source": [
    "按年来做运算"
   ]
  },
  {
   "cell_type": "code",
   "execution_count": 1,
   "metadata": {},
   "outputs": [],
   "source": [
    "import pandas as pd\n",
    "import matplotlib\n",
    "from matplotlib import font_manager\n",
    "import matplotlib.pyplot as plt\n",
    "from datetime import datetime\n",
    "import json\n",
    "import numpy as np\n",
    "import cnfundutils\n",
    "import libtrdb2\n",
    "\n",
    "cnfundutils.init()\n",
    "\n",
    "dfFundResults = {}\n",
    "dfFundResults[2014] = cnfundutils.loadFundResult('./calcfund2014y.csv')\n",
    "dfFundResults[2015] = cnfundutils.loadFundResult('./calcfund2015y.csv')\n",
    "dfFundResults[2016] = cnfundutils.loadFundResult('./calcfund2016y.csv')\n",
    "dfFundResults[2017] = cnfundutils.loadFundResult('./calcfund2017y.csv')\n",
    "dfFundResults[2018] = cnfundutils.loadFundResult('./calcfund2018y.csv')\n",
    "dfFundResults[2019] = cnfundutils.loadFundResult('./calcfund2019y.csv')\n",
    "dfFundResults[2020] = cnfundutils.loadFundResult('./calcfund2020.csv')\n",
    "\n",
    "FUNDS_PATH = './funds.xlsx'\n",
    "dfFunds = cnfundutils.loadFundBasicInfo(FUNDS_PATH)"
   ]
  },
  {
   "cell_type": "code",
   "execution_count": null,
   "metadata": {},
   "outputs": [],
   "source": []
  }
 ],
 "metadata": {
  "kernelspec": {
   "display_name": "Python 3",
   "language": "python",
   "name": "python3"
  },
  "language_info": {
   "codemirror_mode": {
    "name": "ipython",
    "version": 3
   },
   "file_extension": ".py",
   "mimetype": "text/x-python",
   "name": "python",
   "nbconvert_exporter": "python",
   "pygments_lexer": "ipython3",
   "version": "3.8.6"
  }
 },
 "nbformat": 4,
 "nbformat_minor": 4
}
