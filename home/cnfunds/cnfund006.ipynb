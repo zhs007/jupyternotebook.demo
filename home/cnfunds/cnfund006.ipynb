{
 "cells": [
  {
   "cell_type": "code",
   "execution_count": 1,
   "metadata": {},
   "outputs": [],
   "source": [
    "import pandas as pd\n",
    "import matplotlib\n",
    "from matplotlib import font_manager\n",
    "import matplotlib.pyplot as plt\n",
    "from datetime import datetime\n",
    "import json\n",
    "import numpy as np\n",
    "import cnfundutils\n",
    "import libtrdb2\n",
    "\n",
    "import plotly.express as px\n",
    "\n",
    "isStaticImg = True\n",
    "\n",
    "cnfundutils.init2()\n",
    "\n",
    "trdb2cfg = libtrdb2.loadConfig('./trdb2.yaml')\n",
    "\n",
    "FUNDRESULTS_PATH = './calcfundfull.csv'\n",
    "dfFundResults = cnfundutils.loadFundResult(FUNDRESULTS_PATH)\n",
    "\n",
    "FUNDS_PATH = './funds.xlsx'\n",
    "dfFunds = cnfundutils.loadFundBasicInfo(FUNDS_PATH)"
   ]
  },
  {
   "cell_type": "code",
   "execution_count": null,
   "metadata": {},
   "outputs": [],
   "source": [
    "libtrdb2.showSimTradingPNL(trdb2cfg, '001631', ['cnfunds.001631'])"
   ]
  },
  {
   "cell_type": "code",
   "execution_count": null,
   "metadata": {},
   "outputs": [],
   "source": []
  }
 ],
 "metadata": {
  "kernelspec": {
   "display_name": "Python 3",
   "language": "python",
   "name": "python3"
  },
  "language_info": {
   "codemirror_mode": {
    "name": "ipython",
    "version": 3
   },
   "file_extension": ".py",
   "mimetype": "text/x-python",
   "name": "python",
   "nbconvert_exporter": "python",
   "pygments_lexer": "ipython3",
   "version": "3.8.6"
  }
 },
 "nbformat": 4,
 "nbformat_minor": 4
}
