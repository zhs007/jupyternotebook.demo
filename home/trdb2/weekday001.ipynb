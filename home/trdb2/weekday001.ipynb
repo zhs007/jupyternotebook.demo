{
 "cells": [
  {
   "cell_type": "markdown",
   "metadata": {},
   "source": [
    "咱们的基金是否存在着明显的周内效应呢？就是特定周几盈利高一些，让我们来验证一下吧。"
   ]
  },
  {
   "cell_type": "code",
   "execution_count": null,
   "metadata": {},
   "outputs": [],
   "source": [
    "import pandas as pd\n",
    "from datetime import datetime\n",
    "import trdb2py\n",
    "\n",
    "isStaticImg = False\n",
    "\n",
    "width = 960\n",
    "height = 768\n",
    "\n",
    "pd.options.display.max_columns = None\n",
    "pd.options.display.max_rows = None\n",
    "\n",
    "trdb2cfg = trdb2py.loadConfig('./trdb2.yaml')"
   ]
  },
  {
   "cell_type": "markdown",
   "metadata": {},
   "source": [
    "我们先指定一个特定的基金，特定的时间段来分析吧。"
   ]
  },
  {
   "cell_type": "code",
   "execution_count": null,
   "metadata": {},
   "outputs": [],
   "source": [
    "# 具体基金\n",
    "# asset = 'jrj.510310'\n",
    "asset = 'jqdata.000300_XSHG|1d'\n",
    "\n",
    "# 起始时间，0表示从最开始算起\n",
    "# tsStart = 0\n",
    "tsStart = int(trdb2py.str2timestamp('2013-05-01', '%Y-%m-%d'))\n",
    "\n",
    "# 结束时间，-1表示到现在为止\n",
    "# tsEnd = -1\n",
    "tsEnd = int(trdb2py.str2timestamp('2020-09-30', '%Y-%m-%d'))\n",
    "\n",
    "# 初始资金池\n",
    "paramsinit = trdb2py.trading2_pb2.InitParams(\n",
    "    money=10000,\n",
    ")\n",
    "\n",
    "# 买入参数，用全部的钱来买入（也就是复利）\n",
    "paramsbuy = trdb2py.trading2_pb2.BuyParams(\n",
    "    perHandMoney=1,\n",
    ")\n",
    "\n",
    "# 卖出参数，全部卖出\n",
    "paramssell = trdb2py.trading2_pb2.SellParams(\n",
    "    perVolume=1,\n",
    ")\n",
    "\n",
    "lststart = [1, 2, 3, 4, 5]\n",
    "lsttitle = ['周一', '周二', '周三', '周四', '周五']"
   ]
  },
  {
   "cell_type": "markdown",
   "metadata": {},
   "source": [
    "首先看看这个基金的基准表现，就是在开始时间就直接买入，然后一直持有，看具体的收益率。"
   ]
  },
  {
   "cell_type": "code",
   "execution_count": null,
   "metadata": {
    "scrolled": false
   },
   "outputs": [],
   "source": [
    "# baseline    \n",
    "s0 = trdb2py.trading2_pb2.Strategy(\n",
    "    name=\"normal\",\n",
    "    asset=trdb2py.str2asset(asset),         \n",
    ")\n",
    "        \n",
    "buy0 = trdb2py.trading2_pb2.CtrlCondition(\n",
    "    name='buyandhold',\n",
    ")\n",
    "\n",
    "paramsbuy = trdb2py.trading2_pb2.BuyParams(\n",
    "    perHandMoney=1,\n",
    ")\n",
    "\n",
    "paramsinit = trdb2py.trading2_pb2.InitParams(\n",
    "    money=10000,\n",
    ")\n",
    "\n",
    "s0.buy.extend([buy0])\n",
    "s0.paramsBuy.CopyFrom(paramsbuy)\n",
    "s0.paramsInit.CopyFrom(paramsinit)        \n",
    "p0 = trdb2py.trading2_pb2.SimTradingParams(\n",
    "    assets=[trdb2py.str2asset(asset)],\n",
    "    startTs=tsStart,\n",
    "    endTs=tsEnd,\n",
    "    strategies=[s0],\n",
    "    title='baseline',\n",
    ")  \n",
    "\n",
    "pnlBaseline = trdb2py.simTrading(trdb2cfg, p0)\n",
    "trdb2py.showPNL(pnlBaseline, toImg=isStaticImg, width=width, height=height)"
   ]
  },
  {
   "cell_type": "markdown",
   "metadata": {},
   "source": [
    "那么策略基准线大概就是这样了，7年多的时间2.2倍。"
   ]
  },
  {
   "cell_type": "markdown",
   "metadata": {},
   "source": [
    "接下来，先看看最简单的情况，就是特定周几买入，第二天就卖出，只持有1天。"
   ]
  },
  {
   "cell_type": "code",
   "execution_count": null,
   "metadata": {
    "scrolled": false
   },
   "outputs": [],
   "source": [
    "lstparams = []\n",
    "\n",
    "for i in range(0, 5):\n",
    "    buy0 = trdb2py.trading2_pb2.CtrlCondition(\n",
    "        name='weekday',\n",
    "        vals=[lststart[i]],\n",
    "    )\n",
    "\n",
    "    sell0 = trdb2py.trading2_pb2.CtrlCondition(\n",
    "        name='weekday',\n",
    "        vals=[trdb2py.nextWeekDay(lststart[i], 1)],\n",
    "    )\n",
    "\n",
    "    s0 = trdb2py.trading2_pb2.Strategy(\n",
    "        name=\"normal\",\n",
    "        asset=trdb2py.str2asset(asset),\n",
    "    )\n",
    "\n",
    "    s0.buy.extend([buy0])\n",
    "    s0.sell.extend([sell0])\n",
    "    s0.paramsBuy.CopyFrom(paramsbuy)\n",
    "    s0.paramsSell.CopyFrom(paramssell)\n",
    "    s0.paramsInit.CopyFrom(paramsinit)        \n",
    "    lstparams.append(trdb2py.trading2_pb2.SimTradingParams(\n",
    "        assets=[trdb2py.str2asset(asset)],\n",
    "        startTs=tsStart,\n",
    "        endTs=tsEnd,\n",
    "        strategies=[s0],\n",
    "        title='{}买入持有{}天'.format(lsttitle[i], 1),\n",
    "    ))\n",
    " \n",
    "lstpnl1 = trdb2py.simTradings(trdb2cfg, lstparams)\n",
    "\n",
    "trdb2py.showPNLs(lstpnl1 + [pnlBaseline], toImg=isStaticImg, width=width, height=height)"
   ]
  },
  {
   "cell_type": "markdown",
   "metadata": {},
   "source": [
    "如果看曲线图不是很清楚的话，我们列表看看"
   ]
  },
  {
   "cell_type": "code",
   "execution_count": null,
   "metadata": {},
   "outputs": [],
   "source": [
    "dfpnl1b = trdb2py.buildPNLReport(lstpnl1 + [pnlBaseline])\n",
    "\n",
    "dfpnl1b[['title', 'maxDrawdown', 'maxDrawdownStart', 'maxDrawdownEnd', 'totalReturns', 'sharpe', 'annualizedReturns', 'annualizedVolatility', 'variance']].sort_values(by='totalReturns', ascending=False)"
   ]
  },
  {
   "cell_type": "markdown",
   "metadata": {},
   "source": [
    "我看可以看到，虽然盈利都不如基线，但由于波动率降低了。\n",
    "\n",
    "特别是周一和周五，最大回撤都降低了50%以上，所以夏普都要高于基线。"
   ]
  },
  {
   "cell_type": "markdown",
   "metadata": {},
   "source": [
    "上面的策略比较简单，因为有些节假日交易日，所以可能会出现买入了，但无法及时卖出的情况，下面我们换一个确定能卖出才买入的策略看看"
   ]
  },
  {
   "cell_type": "code",
   "execution_count": null,
   "metadata": {},
   "outputs": [],
   "source": [
    "def calcweekday2val2(wday, offday):\n",
    "    if offday == 1:\n",
    "        if wday == 5:\n",
    "            return 3\n",
    "    if offday == 2:\n",
    "        if wday >= 4:\n",
    "            return 4\n",
    "    if offday == 3:\n",
    "        if wday >= 3:\n",
    "            return 5\n",
    "    if offday == 4:\n",
    "        if wday >= 2:\n",
    "            return 6\n",
    "        \n",
    "    return offday\n"
   ]
  },
  {
   "cell_type": "code",
   "execution_count": null,
   "metadata": {
    "scrolled": false
   },
   "outputs": [],
   "source": [
    "lstparams = []\n",
    "\n",
    "for i in range(0, 5):\n",
    "    buy0 = trdb2py.trading2_pb2.CtrlCondition(\n",
    "        name='weekday2',\n",
    "        vals=[lststart[i], calcweekday2val2(i + 1, 1)],\n",
    "    )\n",
    "\n",
    "    sell0 = trdb2py.trading2_pb2.CtrlCondition(\n",
    "        name='weekday',\n",
    "        vals=[trdb2py.nextWeekDay(lststart[i], 1)],\n",
    "    )\n",
    "\n",
    "    s0 = trdb2py.trading2_pb2.Strategy(\n",
    "        name=\"normal\",\n",
    "        asset=trdb2py.str2asset(asset),\n",
    "    )\n",
    "\n",
    "    s0.buy.extend([buy0])\n",
    "    s0.sell.extend([sell0])\n",
    "    s0.paramsBuy.CopyFrom(paramsbuy)\n",
    "    s0.paramsSell.CopyFrom(paramssell)\n",
    "    s0.paramsInit.CopyFrom(paramsinit)        \n",
    "    lstparams.append(trdb2py.trading2_pb2.SimTradingParams(\n",
    "        assets=[trdb2py.str2asset(asset)],\n",
    "        startTs=tsStart,\n",
    "        endTs=tsEnd,\n",
    "        strategies=[s0],\n",
    "        title='{}买入持有{}天v2'.format(lsttitle[i], 1),\n",
    "    ))\n",
    " \n",
    "lstpnl1t = trdb2py.simTradings(trdb2cfg, lstparams)\n",
    "\n",
    "trdb2py.showPNLs(lstpnl1t + [pnlBaseline], toImg=isStaticImg, width=width, height=height)"
   ]
  },
  {
   "cell_type": "code",
   "execution_count": null,
   "metadata": {
    "scrolled": false
   },
   "outputs": [],
   "source": [
    "dfpnl1b = trdb2py.buildPNLReport(lstpnl1 + lstpnl1t + [pnlBaseline])\n",
    "\n",
    "dfpnl1b[['title', 'maxDrawdown', 'maxDrawdownStart', 'maxDrawdownEnd', 'totalReturns', 'sharpe', 'annualizedReturns', 'annualizedVolatility', 'variance']].sort_values(by='totalReturns', ascending=False)"
   ]
  },
  {
   "cell_type": "markdown",
   "metadata": {},
   "source": [
    "可以看到，虽然有一些差别，但其实影响有好有坏，下面我们还是按v2版的策略来吧"
   ]
  },
  {
   "cell_type": "markdown",
   "metadata": {},
   "source": [
    "接下来看看胜率"
   ]
  },
  {
   "cell_type": "code",
   "execution_count": null,
   "metadata": {},
   "outputs": [],
   "source": [
    "# trdb2py.showBarWinRate4Month(lstpnl1t, valtype='abs', valoff=-0.5, toImg=isStaticImg, width=width, height=height)\n",
    "# trdb2py.showBarWinRate4Month(lstpnl1t, toImg=isStaticImg, width=width, height=height)\n",
    "trdb2py.showBarWinRateInYears(lstpnl1t, toImg=isStaticImg, width=width, height=height)"
   ]
  },
  {
   "cell_type": "markdown",
   "metadata": {},
   "source": [
    "对于这种随机策略，胜率应该均匀分布在0.5左右的，可以分别看看每一条数据，会发现，周五和周一还是要稍高于0.5的，周二周三稍低于0.5。\n",
    "\n",
    "当然，这种策略交易比较频繁，次数足够，按月分布来看，没有明显的趋势，所以我们可以直接看整体汇总胜率。"
   ]
  },
  {
   "cell_type": "code",
   "execution_count": null,
   "metadata": {
    "scrolled": true
   },
   "outputs": [],
   "source": [
    "wrmt = trdb2py.buildPNLWinRateInMonths(lstpnl1t)\n",
    "\n",
    "wrmt[0][['title', 'total']]"
   ]
  },
  {
   "cell_type": "markdown",
   "metadata": {},
   "source": [
    "这里，我们对比一下纳指、标普、恒指、上证50、中证500、中小盘，可以得出以下结论：\n",
    "\n",
    "1. 和走势曲线关系不大，同样大趋势向上的纳指和中小盘，胜率也是能看出差异来的。\n",
    "2. 除了有明显高于0.5的以外，最好也能有明显低于0.5的，这样避开低于0.5的，持有高于0.5的，才能获得额外收益，最终明显超过基线。\n",
    "3. 纳指、标普、恒指 都没有明显的周内效应。\n",
    "4. A股普遍存在较明显的周内效应。\n",
    "5. 越是小盘股，周内效应越明显。"
   ]
  },
  {
   "cell_type": "code",
   "execution_count": null,
   "metadata": {
    "scrolled": false
   },
   "outputs": [],
   "source": [
    "trdb2py.showBarWinRate4Month(lstpnl1t, toImg=isStaticImg, width=width, height=height)"
   ]
  },
  {
   "cell_type": "markdown",
   "metadata": {},
   "source": [
    "接下来，我们统计一下不同月份的胜率，发现，胜率最突出的还是周五买入持有1天，但这个在4月和9月胜率偏低，特别是4月。\n",
    "\n",
    "接下来看看4月的统计。"
   ]
  },
  {
   "cell_type": "code",
   "execution_count": null,
   "metadata": {
    "scrolled": false
   },
   "outputs": [],
   "source": [
    "#trdb2py.showBarWinRateInMonths(lstpnl1t, valtype='abs', valoff=-0.5, month=8, toImg=isStaticImg, width=width, height=height)\n",
    "trdb2py.showBarWinRateInMonths(lstpnl1t, month=4, toImg=isStaticImg, width=width, height=height)"
   ]
  },
  {
   "cell_type": "markdown",
   "metadata": {},
   "source": [
    "发现除了2015年和2020年以外，4月确实都是输的。\n",
    "\n",
    "但是，2015年和2020年4月其实都算是牛市了，不能这样简单的筛选。\n",
    "\n",
    "目前看来，没有特别的证据表明有明显的可供配合的月度效应。"
   ]
  },
  {
   "cell_type": "markdown",
   "metadata": {},
   "source": [
    "如果能把周五、周一的增长叠加起来，是不是结果会更好一些呢\n",
    "\n",
    "干脆把持有1天到4天的情况，也就是从周一买周二卖，一直到 周一买周五卖，看看"
   ]
  },
  {
   "cell_type": "code",
   "execution_count": null,
   "metadata": {},
   "outputs": [],
   "source": [
    "lstparams = []\n",
    "\n",
    "for day in range(1, 5):\n",
    "    for i in range(0, 5):\n",
    "        buy0 = trdb2py.trading2_pb2.CtrlCondition(\n",
    "            name='weekday2',\n",
    "            vals=[lststart[i], calcweekday2val2(i + 1, day)],\n",
    "        )\n",
    "\n",
    "        sell0 = trdb2py.trading2_pb2.CtrlCondition(\n",
    "            name='weekday',\n",
    "            vals=[trdb2py.nextWeekDay(lststart[i], day)],\n",
    "        )\n",
    "\n",
    "        s0 = trdb2py.trading2_pb2.Strategy(\n",
    "            name=\"normal\",\n",
    "            asset=trdb2py.str2asset(asset),\n",
    "        )\n",
    "\n",
    "        s0.buy.extend([buy0])\n",
    "        s0.sell.extend([sell0])\n",
    "        s0.paramsBuy.CopyFrom(paramsbuy)\n",
    "        s0.paramsSell.CopyFrom(paramssell)\n",
    "        s0.paramsInit.CopyFrom(paramsinit)        \n",
    "        lstparams.append(trdb2py.trading2_pb2.SimTradingParams(\n",
    "            assets=[trdb2py.str2asset(asset)],\n",
    "            startTs=tsStart,\n",
    "            endTs=tsEnd,\n",
    "            strategies=[s0],\n",
    "            title='{}买入持有{}天v2'.format(lsttitle[i], day),\n",
    "        ))\n",
    " \n",
    "lstpnl = trdb2py.simTradings(trdb2cfg, lstparams)\n",
    "\n",
    "trdb2py.showPNLs(lstpnl + [pnlBaseline], toImg=isStaticImg, width=width, height=height)"
   ]
  },
  {
   "cell_type": "code",
   "execution_count": null,
   "metadata": {},
   "outputs": [],
   "source": [
    "dfpnl = trdb2py.buildPNLReport(lstpnl + [pnlBaseline])\n",
    "\n",
    "dfpnl[['title', 'maxDrawdown', 'maxDrawdownStart', 'maxDrawdownEnd', 'totalReturns', 'sharpe', 'annualizedReturns', 'annualizedVolatility', 'variance']].sort_values(by='totalReturns', ascending=False)"
   ]
  },
  {
   "cell_type": "markdown",
   "metadata": {},
   "source": [
    "单看回报率，已经有明显超过基线的了，而且，最好的情况，夏普提升了近3倍"
   ]
  },
  {
   "cell_type": "markdown",
   "metadata": {},
   "source": [
    "接下来，还能想到的，如果在下降的时候，定投买入，最终会不会也能获得额外收益呢？\n",
    "\n",
    "还是周一到周五一起测一下吧。"
   ]
  },
  {
   "cell_type": "code",
   "execution_count": null,
   "metadata": {},
   "outputs": [],
   "source": [
    "lstparams = []\n",
    "\n",
    "for i in range(0, 5):\n",
    "    buy0 = trdb2py.trading2_pb2.CtrlCondition(\n",
    "        name='weekday',\n",
    "        vals=[lststart[i]],\n",
    "    )\n",
    "\n",
    "    s0 = trdb2py.trading2_pb2.Strategy(\n",
    "        name=\"normal\",\n",
    "        asset=trdb2py.str2asset(asset),\n",
    "    )\n",
    "    \n",
    "    paramsaip = trdb2py.trading2_pb2.AIPParams(\n",
    "        money=10000,\n",
    "        type=trdb2py.trading2_pb2.AIPTT_MONTHDAY,\n",
    "        day=lststart[i],\n",
    "    )\n",
    "\n",
    "    s0.buy.extend([buy0])\n",
    "    s0.paramsBuy.CopyFrom(paramsbuy)\n",
    "    s0.paramsSell.CopyFrom(paramssell)\n",
    "    s0.paramsInit.CopyFrom(paramsinit)\n",
    "    s0.paramsAIP.CopyFrom(paramsaip)\n",
    "    lstparams.append(trdb2py.trading2_pb2.SimTradingParams(\n",
    "        assets=[trdb2py.str2asset(asset)],\n",
    "        startTs=tsStart,\n",
    "        endTs=tsEnd,\n",
    "        strategies=[s0],\n",
    "        title='{}定投'.format(lsttitle[i], day),\n",
    "    ))\n",
    " \n",
    "lstaippnl = trdb2py.simTradings(trdb2cfg, lstparams)\n",
    "\n",
    "trdb2py.showPNLs(lstaippnl + [pnlBaseline], toImg=isStaticImg, width=width, height=height)"
   ]
  },
  {
   "cell_type": "markdown",
   "metadata": {},
   "source": [
    "我们可以看到5条收益曲线几乎重合在一起，说明，特定周几购买，其实并没有差别。\n",
    "\n",
    "关于定投，后面会有更详细的测试，这里还是回到如何榨取周内效应的最大收益上。"
   ]
  },
  {
   "cell_type": "markdown",
   "metadata": {},
   "source": [
    "我们还可以考虑加入均线策略，看看在均线上下方买入，是否有区别，其实如果均线粒度够大，一定程度上能将牛市和熊市区分开。\n",
    "\n",
    "这个运算量有点大，大概有24000种，我直接给出结论吧。"
   ]
  },
  {
   "cell_type": "code",
   "execution_count": null,
   "metadata": {},
   "outputs": [],
   "source": [
    "lstparams = []\n",
    "\n",
    "for ema in range(5, 61):    \n",
    "    for sdo in range(1, 5):\n",
    "        for sd in range(1, 6):\n",
    "            buy0 = trdb2py.trading2_pb2.CtrlCondition(\n",
    "                name='weekday2',\n",
    "                vals=[sd, calcweekday2val2(sd, sdo)],\n",
    "            )\n",
    "\n",
    "            buy1 = trdb2py.trading2_pb2.CtrlCondition(\n",
    "                name='indicatorsp',\n",
    "                operators=['up'],\n",
    "                strVals=['ema.{}'.format(ema)],\n",
    "            )\n",
    "            \n",
    "            sell0 = trdb2py.trading2_pb2.CtrlCondition(\n",
    "                name='weekday',\n",
    "                vals=[trdb2py.nextWeekDay(sd, sdo)],\n",
    "            )\n",
    "\n",
    "            sell1 = trdb2py.trading2_pb2.CtrlCondition(\n",
    "                name='ctrlconditionid',\n",
    "                vals=[1],\n",
    "                strVals=['buy'],\n",
    "            )            \n",
    "            \n",
    "            for edo in range(1, 5):\n",
    "                for ed in range(1, 6):\n",
    "\n",
    "                    buy2 = trdb2py.trading2_pb2.CtrlCondition(\n",
    "                        name='weekday2',\n",
    "                        vals=[ed, calcweekday2val2(ed, edo)],\n",
    "                        group=1,\n",
    "                    )\n",
    "\n",
    "                    buy3 = trdb2py.trading2_pb2.CtrlCondition(\n",
    "                        name='indicatorsp',\n",
    "                        operators=['down'],\n",
    "                        strVals=['ema.{}'.format(ema)],\n",
    "                        group=1,    \n",
    "                    )\n",
    "\n",
    "                    sell2 = trdb2py.trading2_pb2.CtrlCondition(\n",
    "                        name='weekday',\n",
    "                        vals=[trdb2py.nextWeekDay(ed, edo)],\n",
    "                        group=1,     \n",
    "                    )\n",
    "\n",
    "                    sell3 = trdb2py.trading2_pb2.CtrlCondition(\n",
    "                        name='ctrlconditionid',\n",
    "                        vals=[2],\n",
    "                        strVals=['buy'],\n",
    "                        group=1,     \n",
    "                    )\n",
    "            \n",
    "\n",
    "                    s0 = trdb2py.trading2_pb2.Strategy(\n",
    "                        name=\"normal\",\n",
    "                        asset=trdb2py.str2asset(asset),\n",
    "                    )\n",
    "\n",
    "                    s0.buy.extend([buy0, buy1, buy2, buy3])\n",
    "                    s0.sell.extend([sell0, sell1, sell2, sell3])\n",
    "                    s0.paramsBuy.CopyFrom(paramsbuy)\n",
    "                    s0.paramsSell.CopyFrom(paramssell) \n",
    "                    s0.paramsInit.CopyFrom(paramsinit)        \n",
    "                    lstparams.append(trdb2py.trading2_pb2.SimTradingParams(\n",
    "                        assets=[trdb2py.str2asset(asset)],\n",
    "                        startTs=tsStart,\n",
    "                        endTs=tsEnd,\n",
    "                        strategies=[s0],\n",
    "                        title='ema{}up{}持有{}天down{}持有{}天'.format(ema, lsttitle[sd-1], sdo, lsttitle[ed-1], edo),\n",
    "                    ))\n",
    " \n",
    "lstpnlmix = trdb2py.simTradings(trdb2cfg, lstparams, ignoreTotalReturn=4)\n",
    "\n",
    "# trdb2py.showPNLs(lstpnlmix + [pnlBaseline], toImg=isStaticImg, width=width, height=height)"
   ]
  },
  {
   "cell_type": "code",
   "execution_count": null,
   "metadata": {
    "scrolled": false
   },
   "outputs": [],
   "source": [
    "dfpnl = trdb2py.buildPNLReport(lstpnlmix + [pnlBaseline])\n",
    "\n",
    "dfpnl1 = dfpnl[dfpnl['totalReturns'] >= 1]\n",
    "\n",
    "dfpnl1[['title', 'maxDrawdown', 'maxDrawdownStart', 'maxDrawdownEnd', 'totalReturns', 'sharpe', 'annualizedReturns', 'annualizedVolatility', 'variance']].sort_values(by='totalReturns', ascending=False)"
   ]
  },
  {
   "cell_type": "code",
   "execution_count": null,
   "metadata": {},
   "outputs": [],
   "source": [
    "asset = 'jqdata.000300_XSHG|1d'\n",
    "# asset = 'jqdata.000905_XSHG|1d'\n",
    "# asset = 'jqdata.000932_XSHG|1d'\n",
    "\n",
    "s0 = trdb2py.trading2_pb2.Strategy(\n",
    "    name=\"normal\",\n",
    "    asset=trdb2py.str2asset(asset),         \n",
    ")\n",
    "        \n",
    "buy0 = trdb2py.trading2_pb2.CtrlCondition(\n",
    "    name='weekday2',\n",
    "    vals=[4, calcweekday2val2(4, 4)],\n",
    ")\n",
    "\n",
    "buy1 = trdb2py.trading2_pb2.CtrlCondition(\n",
    "    name='indicatorsp',\n",
    "    operators=['up'],\n",
    "    strVals=['ema.{}'.format(29)],\n",
    ")\n",
    "\n",
    "buy2 = trdb2py.trading2_pb2.CtrlCondition(\n",
    "    name='weekday2',\n",
    "    vals=[1, calcweekday2val2(1, 4)],\n",
    "    group=1,\n",
    ")\n",
    "\n",
    "buy3 = trdb2py.trading2_pb2.CtrlCondition(\n",
    "    name='indicatorsp',\n",
    "    operators=['down'],\n",
    "    strVals=['ema.29'],\n",
    "    group=1,    \n",
    ")\n",
    "\n",
    "sell0 = trdb2py.trading2_pb2.CtrlCondition(\n",
    "    name='weekday',\n",
    "    vals=[3],\n",
    ")\n",
    "\n",
    "sell1 = trdb2py.trading2_pb2.CtrlCondition(\n",
    "    name='ctrlconditionid',\n",
    "    vals=[1],\n",
    "    strVals=['buy'],\n",
    ")\n",
    "\n",
    "sell2 = trdb2py.trading2_pb2.CtrlCondition(\n",
    "    name='weekday',\n",
    "    vals=[5],\n",
    "    group=1,     \n",
    ")\n",
    "\n",
    "sell3 = trdb2py.trading2_pb2.CtrlCondition(\n",
    "    name='ctrlconditionid',\n",
    "    vals=[2],\n",
    "    strVals=['buy'],\n",
    "    group=1,     \n",
    ")\n",
    "\n",
    "paramsbuy = trdb2py.trading2_pb2.BuyParams(\n",
    "    perHandMoney=1,\n",
    ")\n",
    "\n",
    "paramsinit = trdb2py.trading2_pb2.InitParams(\n",
    "    money=10000,\n",
    ")\n",
    "\n",
    "s0.buy.extend([buy0, buy1, buy2, buy3])\n",
    "s0.sell.extend([sell0, sell1, sell2, sell3])\n",
    "s0.paramsBuy.CopyFrom(paramsbuy)\n",
    "s0.paramsSell.CopyFrom(paramssell) \n",
    "s0.paramsInit.CopyFrom(paramsinit)        \n",
    "p0 = trdb2py.trading2_pb2.SimTradingParams(\n",
    "    assets=[trdb2py.str2asset(asset)],\n",
    "    startTs=tsStart,\n",
    "    endTs=tsEnd,\n",
    "    strategies=[s0],\n",
    "    title='混合策略',\n",
    ")  \n",
    "\n",
    "pnlm = trdb2py.simTrading(trdb2cfg, p0)\n",
    "\n",
    "trdb2py.showPNLs([pnlm, pnlBaseline], toImg=isStaticImg, width=width, height=height)"
   ]
  },
  {
   "cell_type": "code",
   "execution_count": null,
   "metadata": {},
   "outputs": [],
   "source": []
  }
 ],
 "metadata": {
  "kernelspec": {
   "display_name": "Python 3",
   "language": "python",
   "name": "python3"
  },
  "language_info": {
   "codemirror_mode": {
    "name": "ipython",
    "version": 3
   },
   "file_extension": ".py",
   "mimetype": "text/x-python",
   "name": "python",
   "nbconvert_exporter": "python",
   "pygments_lexer": "ipython3",
   "version": "3.8.8"
  }
 },
 "nbformat": 4,
 "nbformat_minor": 4
}
