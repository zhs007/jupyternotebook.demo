{
 "cells": [
  {
   "cell_type": "markdown",
   "metadata": {
    "slideshow": {
     "slide_type": "-"
    }
   },
   "source": [
    "均线 一 上证信息"
   ]
  },
  {
   "cell_type": "markdown",
   "metadata": {},
   "source": [
    "我是格子衫小C（微信公众号：格子衫小C），今天开始，我们一起来研究均线指标（Indicator）。"
   ]
  },
  {
   "cell_type": "markdown",
   "metadata": {},
   "source": [
    "均线是最常见的一种指标，一般交易软件里都能看到。\n",
    "\n",
    "均线，顾名思义，就是用各种加权算法算出历史平均价格。\n",
    "\n",
    "因为均线有明显的滞后性（譬如用前5日价格算出来的平均数，高点或低点都一定是滞后的），所以一般叫 移动平均线，也就是 Moving Averages ，简称 MA。\n",
    "\n",
    "MA里，平均数的算法有很多种，因此MA也有很多种，其中，最简单的就是算术平均数算出来的，一般叫 MA 或 SMA。"
   ]
  },
  {
   "cell_type": "code",
   "execution_count": null,
   "metadata": {},
   "outputs": [],
   "source": [
    "import pandas as pd\n",
    "from datetime import datetime\n",
    "import trdb2py\n",
    "\n",
    "isStaticImg = False\n",
    "width = 960\n",
    "height = 768\n",
    "\n",
    "pd.options.display.max_columns = None\n",
    "pd.options.display.max_rows = None\n",
    "\n",
    "trdb2cfg = trdb2py.loadConfig('./trdb2.yaml')"
   ]
  },
  {
   "cell_type": "code",
   "execution_count": null,
   "metadata": {},
   "outputs": [],
   "source": [
    "# 具体基金\n",
    "# asset = 'jrj.510310'\n",
    "asset = 'jqdata.000039_XSHG|1d'\n",
    "\n",
    "# 起始时间，0表示从最开始算起\n",
    "# tsStart = 0\n",
    "tsStart = int(trdb2py.str2timestamp('2013-05-01', '%Y-%m-%d'))\n",
    "\n",
    "# 结束时间，-1表示到现在为止\n",
    "# tsEnd = -1\n",
    "tsEnd = int(trdb2py.str2timestamp('2020-09-30', '%Y-%m-%d'))\n",
    "\n",
    "# 初始资金池\n",
    "paramsinit = trdb2py.trading2_pb2.InitParams(\n",
    "    money=10000,\n",
    ")\n",
    "\n",
    "# 买入参数，用全部的钱来买入（也就是复利）\n",
    "paramsbuy = trdb2py.trading2_pb2.BuyParams(\n",
    "    perHandMoney=1,\n",
    ")\n",
    "\n",
    "# 卖出参数，全部卖出\n",
    "paramssell = trdb2py.trading2_pb2.SellParams(\n",
    "    perVolume=1,\n",
    ")"
   ]
  },
  {
   "cell_type": "code",
   "execution_count": null,
   "metadata": {
    "scrolled": false
   },
   "outputs": [],
   "source": [
    "# baseline    \n",
    "s0 = trdb2py.trading2_pb2.Strategy(\n",
    "    name=\"normal\",\n",
    "    asset=trdb2py.str2asset(asset),         \n",
    ")\n",
    "        \n",
    "buy0 = trdb2py.trading2_pb2.CtrlCondition(\n",
    "    name='buyandhold',\n",
    ")\n",
    "\n",
    "paramsbuy = trdb2py.trading2_pb2.BuyParams(\n",
    "    perHandMoney=1,\n",
    ")\n",
    "\n",
    "paramsinit = trdb2py.trading2_pb2.InitParams(\n",
    "    money=10000,\n",
    ")\n",
    "\n",
    "s0.buy.extend([buy0])\n",
    "s0.paramsBuy.CopyFrom(paramsbuy)\n",
    "s0.paramsInit.CopyFrom(paramsinit)        \n",
    "p0 = trdb2py.trading2_pb2.SimTradingParams(\n",
    "    assets=[trdb2py.str2asset(asset)],\n",
    "    startTs=tsStart,\n",
    "    endTs=tsEnd,\n",
    "    strategies=[s0],\n",
    "    title='baseline',\n",
    ")  \n",
    "\n",
    "pnlBaseline = trdb2py.simTrading(trdb2cfg, p0)\n",
    "trdb2py.showPNL(pnlBaseline, toImg=isStaticImg, width=width, height=height)"
   ]
  },
  {
   "cell_type": "markdown",
   "metadata": {},
   "source": [
    "我们还是拿沪深300指数，2013年5月1日到2020年9月30日的日线数据来做例子。"
   ]
  },
  {
   "cell_type": "code",
   "execution_count": null,
   "metadata": {
    "scrolled": false
   },
   "outputs": [],
   "source": [
    "ret = trdb2py.getAssetCandles2(trdb2cfg, asset, tsStart, tsEnd, indicators=['sma.2', 'sma.5', 'sma.30', 'sma.60', 'sma.120', 'sma.240'])\n",
    "# print(ret) \n",
    "# ret\n",
    "trdb2py.showAssetCandles2('沪深300指数', ret, indicators=['sma.2', 'sma.5', 'sma.30', 'sma.60', 'sma.120', 'sma.240'], toImg=isStaticImg, width=width, height=height)"
   ]
  },
  {
   "cell_type": "markdown",
   "metadata": {},
   "source": [
    "上面可以看到30日、60日、120日、240日均线，可以看到，随着容纳的数据变多，均线是越来越平滑的。\n",
    "\n",
    "1. 越大的均线越平滑\n",
    "2. 越大的均线高点越低，低点越高\n",
    "3. 越长的均线滞后性越明显"
   ]
  },
  {
   "cell_type": "markdown",
   "metadata": {},
   "source": [
    "将均线和价格曲线对比来看，我们能发现\n",
    "\n",
    "1. 上涨时，价格曲线在均线上方（均线的滞后性）\n",
    "2. 下跌时，价格曲线在下方"
   ]
  },
  {
   "cell_type": "markdown",
   "metadata": {},
   "source": [
    "看起来，只要找到一条合适的均线，在价格向上穿过均线时买入，价格向下穿过均线时卖出，但其实没这么简单。\n",
    "\n",
    "越长的均线相交点越少，但滞后越严重，而越短的均线，很容易有误穿的情况。\n",
    "\n",
    "而且，理论上，这个均线参数不会适用所有情况，哪怕是一种资产的均线。"
   ]
  },
  {
   "cell_type": "markdown",
   "metadata": {},
   "source": [
    "接下来，测一下均线"
   ]
  },
  {
   "cell_type": "code",
   "execution_count": null,
   "metadata": {},
   "outputs": [],
   "source": [
    "lstparams = []\n",
    "\n",
    "# 具体基金\n",
    "# asset = 'jrj.510310'\n",
    "asset = 'jqdata.000039_XSHG|1d'\n",
    "\n",
    "# 起始时间，0表示从最开始算起\n",
    "# tsStart = 0\n",
    "tsStart = int(trdb2py.str2timestamp('2013-05-01', '%Y-%m-%d'))\n",
    "\n",
    "# 结束时间，-1表示到现在为止\n",
    "# tsEnd = -1\n",
    "tsEnd = int(trdb2py.str2timestamp('2020-09-30', '%Y-%m-%d'))\n",
    "\n",
    "for ema in range(2, 241):    \n",
    "    buy0 = trdb2py.trading2_pb2.CtrlCondition(\n",
    "        name='indicatorsp',\n",
    "        operators=['upcross'],\n",
    "        strVals=['ta-sma.{}'.format(ema)],\n",
    "    )\n",
    "    \n",
    "    buy1 = trdb2py.trading2_pb2.CtrlCondition(\n",
    "        name='waittostart',\n",
    "        vals=[ema],\n",
    "    )    \n",
    "            \n",
    "    sell0 = trdb2py.trading2_pb2.CtrlCondition(\n",
    "        name='indicatorsp',\n",
    "        operators=['downcross'],\n",
    "        strVals=['ta-sma.{}'.format(ema)],\n",
    "    )\n",
    "    \n",
    "    s0 = trdb2py.trading2_pb2.Strategy(\n",
    "        name=\"normal\",\n",
    "        asset=trdb2py.str2asset(asset),\n",
    "    )\n",
    "\n",
    "    s0.buy.extend([buy0, buy1])\n",
    "    s0.sell.extend([sell0])\n",
    "    s0.paramsBuy.CopyFrom(paramsbuy)\n",
    "    s0.paramsSell.CopyFrom(paramssell) \n",
    "    s0.paramsInit.CopyFrom(paramsinit)        \n",
    "    lstparams.append(trdb2py.trading2_pb2.SimTradingParams(\n",
    "        assets=[trdb2py.str2asset(asset)],\n",
    "        startTs=tsStart,\n",
    "        endTs=tsEnd,\n",
    "        strategies=[s0],\n",
    "        title='sma.{}'.format(ema),\n",
    "    ))\n",
    " \n",
    "lstpnlmix = trdb2py.simTradings(trdb2cfg, lstparams, ignoreTotalReturn=2.3)\n",
    "\n",
    "trdb2py.showPNLs(lstpnlmix + [pnlBaseline], toImg=isStaticImg, width=width, height=height)"
   ]
  },
  {
   "cell_type": "code",
   "execution_count": null,
   "metadata": {
    "scrolled": false
   },
   "outputs": [],
   "source": [
    "dfpnl = trdb2py.buildPNLReport(lstpnlmix + [pnlBaseline])\n",
    "\n",
    "# dfpnl1 = dfpnl[dfpnl['totalReturns'] >= 2]\n",
    "\n",
    "dfpnl[['title', 'maxDrawdown', 'maxDrawdownStart', 'maxDrawdownEnd', 'totalReturns', 'sharpe', 'annualizedReturns', 'annualizedVolatility', 'variance']].sort_values(by='totalReturns', ascending=False)"
   ]
  },
  {
   "cell_type": "markdown",
   "metadata": {},
   "source": [
    "可以看到，简单的均线策略，最好的情况也就是将上涨的趋势把握住，跳过下跌大的区间，当然，基本上上涨和下跌都会有损失。\n",
    "\n",
    "这里粒度非常重要，看估计很难看出来，只能试。"
   ]
  },
  {
   "cell_type": "code",
   "execution_count": null,
   "metadata": {},
   "outputs": [],
   "source": [
    "# lstems = [2, 42, 60]\n",
    "# 起始时间，0表示从最开始算起\n",
    "tsStart = 0\n",
    "# tsStart = int(trdb2py.str2timestamp('2013-05-01', '%Y-%m-%d'))\n",
    "\n",
    "# 结束时间，-1表示到现在为止\n",
    "tsEnd = -1\n",
    "# tsEnd = int(trdb2py.str2timestamp('2020-09-30', '%Y-%m-%d'))\n",
    "\n",
    "# baseline    \n",
    "s0 = trdb2py.trading2_pb2.Strategy(\n",
    "    name=\"normal\",\n",
    "    asset=trdb2py.str2asset(asset),         \n",
    ")\n",
    "        \n",
    "buy0 = trdb2py.trading2_pb2.CtrlCondition(\n",
    "    name='buyandhold',\n",
    ")\n",
    "\n",
    "paramsbuy = trdb2py.trading2_pb2.BuyParams(\n",
    "    perHandMoney=1,\n",
    ")\n",
    "\n",
    "paramsinit = trdb2py.trading2_pb2.InitParams(\n",
    "    money=10000,\n",
    ")\n",
    "\n",
    "s0.buy.extend([buy0])\n",
    "s0.paramsBuy.CopyFrom(paramsbuy)\n",
    "s0.paramsInit.CopyFrom(paramsinit)        \n",
    "p0 = trdb2py.trading2_pb2.SimTradingParams(\n",
    "    assets=[trdb2py.str2asset(asset)],\n",
    "    startTs=tsStart,\n",
    "    endTs=tsEnd,\n",
    "    strategies=[s0],\n",
    "    title='baseline',\n",
    ")  \n",
    "\n",
    "pnlBaselineF = trdb2py.simTrading(trdb2cfg, p0)\n",
    "trdb2py.showPNL(pnlBaselineF, toImg=isStaticImg, width=width, height=height)"
   ]
  },
  {
   "cell_type": "code",
   "execution_count": null,
   "metadata": {},
   "outputs": [],
   "source": [
    "lstparams = []\n",
    "\n",
    "lstems = [27, 41, 47]\n",
    "# 起始时间，0表示从最开始算起\n",
    "tsStart = 0\n",
    "# tsStart = int(trdb2py.str2timestamp('2013-05-01', '%Y-%m-%d'))\n",
    "\n",
    "# 结束时间，-1表示到现在为止\n",
    "tsEnd = -1\n",
    "# tsEnd = int(trdb2py.str2timestamp('2020-09-30', '%Y-%m-%d'))\n",
    "\n",
    "for ema in lstems:    \n",
    "    buy0 = trdb2py.trading2_pb2.CtrlCondition(\n",
    "        name='indicatorsp',\n",
    "        operators=['upcross'],\n",
    "        strVals=['ta-sma.{}'.format(ema)],\n",
    "    )\n",
    "    \n",
    "    buy1 = trdb2py.trading2_pb2.CtrlCondition(\n",
    "        name='waittostart',\n",
    "        vals=[ema],\n",
    "    )    \n",
    "            \n",
    "    sell0 = trdb2py.trading2_pb2.CtrlCondition(\n",
    "        name='indicatorsp',\n",
    "        operators=['downcross'],\n",
    "        strVals=['ta-sma.{}'.format(ema)],\n",
    "    )\n",
    "    \n",
    "    s0 = trdb2py.trading2_pb2.Strategy(\n",
    "        name=\"normal\",\n",
    "        asset=trdb2py.str2asset(asset),\n",
    "    )\n",
    "\n",
    "    s0.buy.extend([buy0, buy1])\n",
    "    s0.sell.extend([sell0])\n",
    "    s0.paramsBuy.CopyFrom(paramsbuy)\n",
    "    s0.paramsSell.CopyFrom(paramssell) \n",
    "    s0.paramsInit.CopyFrom(paramsinit)        \n",
    "    lstparams.append(trdb2py.trading2_pb2.SimTradingParams(\n",
    "        assets=[trdb2py.str2asset(asset)],\n",
    "        startTs=tsStart,\n",
    "        endTs=tsEnd,\n",
    "        strategies=[s0],\n",
    "        title='sma.{}'.format(ema),\n",
    "    ))\n",
    " \n",
    "lstpnlmix = trdb2py.simTradings(trdb2cfg, lstparams, ignoreTotalReturn=2.3)\n",
    "\n",
    "trdb2py.showPNLs(lstpnlmix + [pnlBaselineF], toImg=isStaticImg, width=width, height=height)"
   ]
  },
  {
   "cell_type": "code",
   "execution_count": null,
   "metadata": {},
   "outputs": [],
   "source": [
    "dfpnl = trdb2py.buildPNLReport(lstpnlmix + [pnlBaselineF])\n",
    "\n",
    "# dfpnl1 = dfpnl[dfpnl['totalReturns'] >= 2]\n",
    "\n",
    "dfpnl[['title', 'maxDrawdown', 'maxDrawdownStart', 'maxDrawdownEnd', 'totalReturns', 'sharpe', 'annualizedReturns', 'annualizedVolatility', 'variance']].sort_values(by='totalReturns', ascending=False)"
   ]
  },
  {
   "cell_type": "code",
   "execution_count": null,
   "metadata": {},
   "outputs": [],
   "source": []
  }
 ],
 "metadata": {
  "celltoolbar": "Slideshow",
  "kernelspec": {
   "display_name": "Python 3",
   "language": "python",
   "name": "python3"
  },
  "language_info": {
   "codemirror_mode": {
    "name": "ipython",
    "version": 3
   },
   "file_extension": ".py",
   "mimetype": "text/x-python",
   "name": "python",
   "nbconvert_exporter": "python",
   "pygments_lexer": "ipython3",
   "version": "3.8.6"
  }
 },
 "nbformat": 4,
 "nbformat_minor": 4
}
