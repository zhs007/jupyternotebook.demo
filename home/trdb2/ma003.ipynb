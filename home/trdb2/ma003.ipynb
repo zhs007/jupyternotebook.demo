{
 "cells": [
  {
   "cell_type": "markdown",
   "metadata": {},
   "source": [
    "看看均线策略。"
   ]
  },
  {
   "cell_type": "code",
   "execution_count": 1,
   "metadata": {},
   "outputs": [],
   "source": [
    "import pandas as pd\n",
    "from datetime import datetime\n",
    "import trdb2py\n",
    "\n",
    "isStaticImg = False\n",
    "width = 960\n",
    "height = 768\n",
    "\n",
    "pd.options.display.max_columns = None\n",
    "pd.options.display.max_rows = None\n",
    "\n",
    "trdb2cfg = trdb2py.loadConfig('./trdb2.yaml')"
   ]
  },
  {
   "cell_type": "markdown",
   "metadata": {},
   "source": [
    "我们测测BTC，特定的时间段来分析吧。"
   ]
  },
  {
   "cell_type": "code",
   "execution_count": 2,
   "metadata": {},
   "outputs": [],
   "source": [
    "# 具体基金\n",
    "asset = 'bitmex.XBTUSD|1h'\n",
    "\n",
    "# 起始时间，0表示从最开始算起\n",
    "# tsStart = 0\n",
    "tsStart = int(trdb2py.str2timestamp('2018-01-01', '%Y-%m-%d'))\n",
    "\n",
    "# 结束时间，-1表示到现在为止\n",
    "# tsEnd = -1\n",
    "tsEnd = int(trdb2py.str2timestamp('2019-01-01', '%Y-%m-%d'))\n",
    "\n",
    "# 初始资金池\n",
    "paramsinit = trdb2py.trading2_pb2.InitParams(\n",
    "    money=10000,\n",
    ")\n",
    "\n",
    "# 买入参数，用全部的钱来买入（也就是复利）\n",
    "paramsbuy = trdb2py.trading2_pb2.BuyParams(\n",
    "    perHandMoney=1,\n",
    ")\n",
    "\n",
    "# 卖出参数，全部卖出\n",
    "paramssell = trdb2py.trading2_pb2.SellParams(\n",
    "    perVolume=1,\n",
    ")"
   ]
  },
  {
   "cell_type": "markdown",
   "metadata": {},
   "source": [
    "首先看看这个基金的基准表现，就是在开始时间就直接买入，然后一直持有，看具体的收益率。"
   ]
  },
  {
   "cell_type": "code",
   "execution_count": 3,
   "metadata": {
    "scrolled": false
   },
   "outputs": [
    {
     "ename": "_InactiveRpcError",
     "evalue": "<_InactiveRpcError of RPC that terminated with:\n\tstatus = StatusCode.UNKNOWN\n\tdetails = \"Unexpected error in RPC handling\"\n\tdebug_error_string = \"{\"created\":\"@1609752942.828336700\",\"description\":\"Error received from peer ipv4:47.244.154.38:5002\",\"file\":\"src/core/lib/surface/call.cc\",\"file_line\":1061,\"grpc_message\":\"Unexpected error in RPC handling\",\"grpc_status\":2}\"\n>",
     "output_type": "error",
     "traceback": [
      "\u001b[0;31m---------------------------------------------------------------------------\u001b[0m",
      "\u001b[0;31m_InactiveRpcError\u001b[0m                         Traceback (most recent call last)",
      "\u001b[0;32m<ipython-input-3-6e11da59e92a>\u001b[0m in \u001b[0;36m<module>\u001b[0;34m\u001b[0m\n\u001b[1;32m     28\u001b[0m )  \n\u001b[1;32m     29\u001b[0m \u001b[0;34m\u001b[0m\u001b[0m\n\u001b[0;32m---> 30\u001b[0;31m \u001b[0mpnlBaseline\u001b[0m \u001b[0;34m=\u001b[0m \u001b[0mtrdb2py\u001b[0m\u001b[0;34m.\u001b[0m\u001b[0msimTrading\u001b[0m\u001b[0;34m(\u001b[0m\u001b[0mtrdb2cfg\u001b[0m\u001b[0;34m,\u001b[0m \u001b[0mp0\u001b[0m\u001b[0;34m)\u001b[0m\u001b[0;34m\u001b[0m\u001b[0;34m\u001b[0m\u001b[0m\n\u001b[0m\u001b[1;32m     31\u001b[0m \u001b[0;31m# trdb2py.showPNL(pnlBaseline, dtFormat='%Y-%m-%d %H:%M:%S', toImg=isStaticImg, width=width, height=height)\u001b[0m\u001b[0;34m\u001b[0m\u001b[0;34m\u001b[0m\u001b[0;34m\u001b[0m\u001b[0m\n\u001b[1;32m     32\u001b[0m \u001b[0mtrdb2py\u001b[0m\u001b[0;34m.\u001b[0m\u001b[0mshowPNL\u001b[0m\u001b[0;34m(\u001b[0m\u001b[0mpnlBaseline\u001b[0m\u001b[0;34m,\u001b[0m \u001b[0mtoImg\u001b[0m\u001b[0;34m=\u001b[0m\u001b[0misStaticImg\u001b[0m\u001b[0;34m,\u001b[0m \u001b[0mwidth\u001b[0m\u001b[0;34m=\u001b[0m\u001b[0mwidth\u001b[0m\u001b[0;34m,\u001b[0m \u001b[0mheight\u001b[0m\u001b[0;34m=\u001b[0m\u001b[0mheight\u001b[0m\u001b[0;34m)\u001b[0m\u001b[0;34m\u001b[0m\u001b[0;34m\u001b[0m\u001b[0m\n",
      "\u001b[0;32m/opt/conda/lib/python3.8/site-packages/trdb2py/trdb2.py\u001b[0m in \u001b[0;36msimTrading\u001b[0;34m(cfg, params, ignoreCache)\u001b[0m\n\u001b[1;32m     71\u001b[0m     \u001b[0mstub\u001b[0m \u001b[0;34m=\u001b[0m \u001b[0mtrdb2py\u001b[0m\u001b[0;34m.\u001b[0m\u001b[0mtradingdb2_pb2_grpc\u001b[0m\u001b[0;34m.\u001b[0m\u001b[0mTradingDB2Stub\u001b[0m\u001b[0;34m(\u001b[0m\u001b[0mchannel\u001b[0m\u001b[0;34m)\u001b[0m\u001b[0;34m\u001b[0m\u001b[0;34m\u001b[0m\u001b[0m\n\u001b[1;32m     72\u001b[0m \u001b[0;34m\u001b[0m\u001b[0m\n\u001b[0;32m---> 73\u001b[0;31m     response = stub.simTrading(trdb2py.tradingdb2_pb2.RequestSimTrading(\n\u001b[0m\u001b[1;32m     74\u001b[0m         basicRequest=trdb2py.trading2_pb2.BasicRequestData(\n\u001b[1;32m     75\u001b[0m             \u001b[0mtoken\u001b[0m\u001b[0;34m=\u001b[0m\u001b[0mcfg\u001b[0m\u001b[0;34m[\u001b[0m\u001b[0;34m'token'\u001b[0m\u001b[0;34m]\u001b[0m\u001b[0;34m,\u001b[0m\u001b[0;34m\u001b[0m\u001b[0;34m\u001b[0m\u001b[0m\n",
      "\u001b[0;32m/opt/conda/lib/python3.8/site-packages/grpc/_channel.py\u001b[0m in \u001b[0;36m__call__\u001b[0;34m(self, request, timeout, metadata, credentials, wait_for_ready, compression)\u001b[0m\n\u001b[1;32m    921\u001b[0m         state, call, = self._blocking(request, timeout, metadata, credentials,\n\u001b[1;32m    922\u001b[0m                                       wait_for_ready, compression)\n\u001b[0;32m--> 923\u001b[0;31m         \u001b[0;32mreturn\u001b[0m \u001b[0m_end_unary_response_blocking\u001b[0m\u001b[0;34m(\u001b[0m\u001b[0mstate\u001b[0m\u001b[0;34m,\u001b[0m \u001b[0mcall\u001b[0m\u001b[0;34m,\u001b[0m \u001b[0;32mFalse\u001b[0m\u001b[0;34m,\u001b[0m \u001b[0;32mNone\u001b[0m\u001b[0;34m)\u001b[0m\u001b[0;34m\u001b[0m\u001b[0;34m\u001b[0m\u001b[0m\n\u001b[0m\u001b[1;32m    924\u001b[0m \u001b[0;34m\u001b[0m\u001b[0m\n\u001b[1;32m    925\u001b[0m     def with_call(self,\n",
      "\u001b[0;32m/opt/conda/lib/python3.8/site-packages/grpc/_channel.py\u001b[0m in \u001b[0;36m_end_unary_response_blocking\u001b[0;34m(state, call, with_call, deadline)\u001b[0m\n\u001b[1;32m    824\u001b[0m             \u001b[0;32mreturn\u001b[0m \u001b[0mstate\u001b[0m\u001b[0;34m.\u001b[0m\u001b[0mresponse\u001b[0m\u001b[0;34m\u001b[0m\u001b[0;34m\u001b[0m\u001b[0m\n\u001b[1;32m    825\u001b[0m     \u001b[0;32melse\u001b[0m\u001b[0;34m:\u001b[0m\u001b[0;34m\u001b[0m\u001b[0;34m\u001b[0m\u001b[0m\n\u001b[0;32m--> 826\u001b[0;31m         \u001b[0;32mraise\u001b[0m \u001b[0m_InactiveRpcError\u001b[0m\u001b[0;34m(\u001b[0m\u001b[0mstate\u001b[0m\u001b[0;34m)\u001b[0m\u001b[0;34m\u001b[0m\u001b[0;34m\u001b[0m\u001b[0m\n\u001b[0m\u001b[1;32m    827\u001b[0m \u001b[0;34m\u001b[0m\u001b[0m\n\u001b[1;32m    828\u001b[0m \u001b[0;34m\u001b[0m\u001b[0m\n",
      "\u001b[0;31m_InactiveRpcError\u001b[0m: <_InactiveRpcError of RPC that terminated with:\n\tstatus = StatusCode.UNKNOWN\n\tdetails = \"Unexpected error in RPC handling\"\n\tdebug_error_string = \"{\"created\":\"@1609752942.828336700\",\"description\":\"Error received from peer ipv4:47.244.154.38:5002\",\"file\":\"src/core/lib/surface/call.cc\",\"file_line\":1061,\"grpc_message\":\"Unexpected error in RPC handling\",\"grpc_status\":2}\"\n>"
     ]
    }
   ],
   "source": [
    "# baseline    \n",
    "s0 = trdb2py.trading2_pb2.Strategy(\n",
    "    name=\"normal\",\n",
    "    asset=trdb2py.str2asset(asset),         \n",
    ")\n",
    "        \n",
    "buy0 = trdb2py.trading2_pb2.CtrlCondition(\n",
    "    name='buyandhold',\n",
    ")\n",
    "\n",
    "paramsbuy = trdb2py.trading2_pb2.BuyParams(\n",
    "    perHandMoney=1,\n",
    ")\n",
    "\n",
    "paramsinit = trdb2py.trading2_pb2.InitParams(\n",
    "    money=10000,\n",
    ")\n",
    "\n",
    "s0.buy.extend([buy0])\n",
    "s0.paramsBuy.CopyFrom(paramsbuy)\n",
    "s0.paramsInit.CopyFrom(paramsinit)        \n",
    "p0 = trdb2py.trading2_pb2.SimTradingParams(\n",
    "    assets=[trdb2py.str2asset(asset)],\n",
    "    startTs=tsStart,\n",
    "    endTs=tsEnd,\n",
    "    strategies=[s0],\n",
    "    title='baseline',\n",
    ")  \n",
    "\n",
    "pnlBaseline = trdb2py.simTrading(trdb2cfg, p0)\n",
    "# trdb2py.showPNL(pnlBaseline, dtFormat='%Y-%m-%d %H:%M:%S', toImg=isStaticImg, width=width, height=height)\n",
    "trdb2py.showPNL(pnlBaseline, toImg=isStaticImg, width=width, height=height)"
   ]
  },
  {
   "cell_type": "markdown",
   "metadata": {},
   "source": [
    "那么策略基准线大概就是这样了。\n",
    "\n",
    "换到日线来，BTC的变化就非常惊人了，5年的时间，120倍，其中有一次非常大的回撤"
   ]
  },
  {
   "cell_type": "markdown",
   "metadata": {},
   "source": [
    "接下来，测一下均线"
   ]
  },
  {
   "cell_type": "code",
   "execution_count": null,
   "metadata": {},
   "outputs": [],
   "source": [
    "lstparams = []\n",
    "\n",
    "for ema in range(5, 61):    \n",
    "    buy0 = trdb2py.trading2_pb2.CtrlCondition(\n",
    "        name='indicatorsp',\n",
    "        operators=['upcross'],\n",
    "        strVals=['ema.{}'.format(ema)],\n",
    "    )\n",
    "    \n",
    "    buy1 = trdb2py.trading2_pb2.CtrlCondition(\n",
    "        name='waittostart',\n",
    "        vals=[ema],\n",
    "    )    \n",
    "            \n",
    "    sell0 = trdb2py.trading2_pb2.CtrlCondition(\n",
    "        name='indicatorsp',\n",
    "        operators=['downcross'],\n",
    "        strVals=['ema.{}'.format(ema)],\n",
    "    )\n",
    "    \n",
    "    s0 = trdb2py.trading2_pb2.Strategy(\n",
    "        name=\"normal\",\n",
    "        asset=trdb2py.str2asset(asset),\n",
    "    )\n",
    "\n",
    "    s0.buy.extend([buy0, buy1])\n",
    "    s0.sell.extend([sell0])\n",
    "    s0.paramsBuy.CopyFrom(paramsbuy)\n",
    "    s0.paramsSell.CopyFrom(paramssell) \n",
    "    s0.paramsInit.CopyFrom(paramsinit)        \n",
    "    lstparams.append(trdb2py.trading2_pb2.SimTradingParams(\n",
    "        assets=[trdb2py.str2asset(asset)],\n",
    "        startTs=tsStart,\n",
    "        endTs=tsEnd,\n",
    "        strategies=[s0],\n",
    "        title='ema{}'.format(ema),\n",
    "    ))\n",
    " \n",
    "lstpnlmix = trdb2py.simTradings(trdb2cfg, lstparams, ignoreTotalReturn=1)\n",
    "\n",
    "# trdb2py.showPNLs(lstpnlmix + [pnlBaseline], dtFormat='%Y-%m-%d %H:%M:%S', toImg=isStaticImg, width=width, height=height)"
   ]
  },
  {
   "cell_type": "code",
   "execution_count": null,
   "metadata": {
    "scrolled": false
   },
   "outputs": [],
   "source": [
    "dfpnl = trdb2py.buildPNLReport(lstpnlmix + [pnlBaseline])\n",
    "\n",
    "dfpnl1 = dfpnl[dfpnl['totalReturns'] >= 1]\n",
    "\n",
    "dfpnl1[['title', 'maxDrawdown', 'maxDrawdownStart', 'maxDrawdownEnd', 'totalReturns', 'sharpe', 'annualizedReturns', 'annualizedVolatility', 'variance']].sort_values(by='totalReturns', ascending=False)"
   ]
  },
  {
   "cell_type": "markdown",
   "metadata": {},
   "source": [
    "可以看到，切换到日线以后，对于btc这种上涨资产来说，简单的单均线就能盈利了"
   ]
  },
  {
   "cell_type": "code",
   "execution_count": null,
   "metadata": {},
   "outputs": [],
   "source": [
    "lstparams = []\n",
    "\n",
    "for ema0 in range(5, 61):\n",
    "    for ema1 in range(5, 61):\n",
    "        buy0 = trdb2py.trading2_pb2.CtrlCondition(\n",
    "            name='indicatorsp',\n",
    "            operators=['upcross'],\n",
    "            strVals=['ema.{}'.format(ema0)],\n",
    "        )\n",
    "\n",
    "        buy1 = trdb2py.trading2_pb2.CtrlCondition(\n",
    "            name='waittostart',\n",
    "            vals=[ema0],\n",
    "        )\n",
    "        \n",
    "        buy2 = trdb2py.trading2_pb2.CtrlCondition(\n",
    "            name='indicatorsp',\n",
    "            operators=['up'],\n",
    "            strVals=['ema.{}'.format(ema1)],\n",
    "        )\n",
    "        \n",
    "        buy3 = trdb2py.trading2_pb2.CtrlCondition(\n",
    "            name='waittostart',\n",
    "            vals=[ema1],\n",
    "        )        \n",
    "\n",
    "        sell0 = trdb2py.trading2_pb2.CtrlCondition(\n",
    "            name='indicatorsp',\n",
    "            operators=['downcross'],\n",
    "            strVals=['ema.{}'.format(ema0)],\n",
    "        )\n",
    "\n",
    "        s0 = trdb2py.trading2_pb2.Strategy(\n",
    "            name=\"normal\",\n",
    "            asset=trdb2py.str2asset(asset),\n",
    "        )\n",
    "\n",
    "        s0.buy.extend([buy0, buy1, buy2, buy3])\n",
    "        s0.sell.extend([sell0])\n",
    "        s0.paramsBuy.CopyFrom(paramsbuy)\n",
    "        s0.paramsSell.CopyFrom(paramssell) \n",
    "        s0.paramsInit.CopyFrom(paramsinit)        \n",
    "        lstparams.append(trdb2py.trading2_pb2.SimTradingParams(\n",
    "            assets=[trdb2py.str2asset(asset)],\n",
    "            startTs=tsStart,\n",
    "            endTs=tsEnd,\n",
    "            strategies=[s0],\n",
    "            title='ema{}&ema{}'.format(ema0, ema1),\n",
    "        ))\n",
    " \n",
    "lstpnlmix = trdb2py.simTradings(trdb2cfg, lstparams, ignoreTotalReturn=1.3)\n",
    "\n",
    "trdb2py.showPNLs(lstpnlmix + [pnlBaseline], dtFormat='%Y-%m-%d %H:%M:%S', toImg=isStaticImg, width=width, height=height)"
   ]
  },
  {
   "cell_type": "code",
   "execution_count": null,
   "metadata": {
    "scrolled": false
   },
   "outputs": [],
   "source": [
    "dfpnl = trdb2py.buildPNLReport(lstpnlmix + [pnlBaseline])\n",
    "\n",
    "dfpnl1 = dfpnl[dfpnl['totalReturns'] >= 1]\n",
    "\n",
    "dfpnl1[['title', 'maxDrawdown', 'maxDrawdownStart', 'maxDrawdownEnd', 'totalReturns', 'sharpe', 'annualizedReturns', 'annualizedVolatility', 'variance']].sort_values(by='totalReturns', ascending=False)"
   ]
  },
  {
   "cell_type": "markdown",
   "metadata": {},
   "source": [
    "考虑2条均线时，几乎能到200倍回报了"
   ]
  },
  {
   "cell_type": "markdown",
   "metadata": {},
   "source": [
    "就算最后换了一个下跌区间（2018-01-01 2020-03-01），其实也是明显盈利的"
   ]
  },
  {
   "cell_type": "markdown",
   "metadata": {},
   "source": [
    "在小时数据里，我用过7天的均线图，也就是168小时，其实效果也非常不理想，但日线里，就算7天的均线，其实也不错了\n",
    "\n",
    "这2者有个明显的区别就是粒度越大的数据，因为只用close数据，所以中间会过滤很多噪声，而小时数据里，就算均线粒度给大，其实还是掺杂了很多噪声，所以效果会不太一样"
   ]
  }
 ],
 "metadata": {
  "kernelspec": {
   "display_name": "Python 3",
   "language": "python",
   "name": "python3"
  },
  "language_info": {
   "codemirror_mode": {
    "name": "ipython",
    "version": 3
   },
   "file_extension": ".py",
   "mimetype": "text/x-python",
   "name": "python",
   "nbconvert_exporter": "python",
   "pygments_lexer": "ipython3",
   "version": "3.8.6"
  }
 },
 "nbformat": 4,
 "nbformat_minor": 4
}
