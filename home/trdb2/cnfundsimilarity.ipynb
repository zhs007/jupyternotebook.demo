{
 "cells": [
  {
   "cell_type": "code",
   "execution_count": null,
   "metadata": {},
   "outputs": [],
   "source": [
    "import pandas as pd\n",
    "from datetime import datetime\n",
    "import trdb2py\n",
    "\n",
    "isStaticImg = False\n",
    "width = 960\n",
    "height = 768\n",
    "\n",
    "pd.options.display.max_columns = None\n",
    "pd.options.display.max_rows = None\n",
    "\n",
    "trdb2cfg = trdb2py.loadConfig('./trdb2.yaml')"
   ]
  },
  {
   "cell_type": "code",
   "execution_count": null,
   "metadata": {},
   "outputs": [],
   "source": [
    "lstassetcode = ['jqdata.000016_XSHG|1d', \n",
    "                'jqdata.000300_XSHG|1d', \n",
    "                'jqdata.000905_XSHG|1d', \n",
    "                'jqdata.000032_XSHG|1d', \n",
    "                'jqdata.000033_XSHG|1d', \n",
    "                'jqdata.000034_XSHG|1d', \n",
    "                'jqdata.000036_XSHG|1d', \n",
    "                'jqdata.000037_XSHG|1d', \n",
    "                'jqdata.000038_XSHG|1d', \n",
    "                'jqdata.000039_XSHG|1d', \n",
    "                'jqdata.000040_XSHG|1d', \n",
    "                'jqdata.000043_XSHG|1d', \n",
    "                'jqdata.000044_XSHG|1d', \n",
    "                'jqdata.000045_XSHG|1d', \n",
    "                'jqdata.000046_XSHG|1d']\n",
    "lstassetname = ['上证50', \n",
    "                '沪深300', \n",
    "                '中证500', \n",
    "                '上证能源', \n",
    "                '上证材料', \n",
    "                '上证工业', \n",
    "                '上证消费', \n",
    "                '上证医药', \n",
    "                '上证金融', \n",
    "                '上证信息', \n",
    "                '上证电信', \n",
    "                '超大盘', \n",
    "                '上证中盘', \n",
    "                '上证小盘', \n",
    "                '上证中小']\n",
    "\n",
    "# 起始时间，0表示从最开始算起\n",
    "# tsStart = 0\n",
    "tsStart = int(trdb2py.str2timestamp('2020-10-01', '%Y-%m-%d'))\n",
    "\n",
    "# 结束时间，-1表示到现在为止\n",
    "tsEnd = -1\n",
    "\n",
    "ret = trdb2py.calcAssetsSimilarity(trdb2cfg, 'jqdata.000300_XSHG|1d', 'jqdata.000032_XSHG|1d', tsStart, tsEnd)\n",
    "\n",
    "ret"
   ]
  },
  {
   "cell_type": "code",
   "execution_count": null,
   "metadata": {
    "scrolled": false
   },
   "outputs": [],
   "source": [
    "ret = trdb2py.calcAssetsSimilarity2(trdb2cfg, lstassetname, lstassetcode, tsStart, tsEnd)\n",
    "\n",
    "df = {'name': []}\n",
    "for name in lstassetname:\n",
    "    df[name] = []\n",
    "    df['name'].append(name)\n",
    "    \n",
    "for i in range(len(lstassetname)):\n",
    "    for j in range(len(lstassetname)):\n",
    "        df[lstassetname[i]].append(ret[i][j])\n",
    "\n",
    "df1 = pd.DataFrame(df)\n",
    "df1"
   ]
  },
  {
   "cell_type": "code",
   "execution_count": null,
   "metadata": {},
   "outputs": [],
   "source": [
    "lstparams = []\n",
    "\n",
    "for ai in range(0, len(lstassetcode)):\n",
    "    s0 = trdb2py.trading2_pb2.Strategy(\n",
    "        name=\"normal\",\n",
    "        asset=trdb2py.str2asset(lstassetcode[ai]),         \n",
    "    )\n",
    "\n",
    "    buy0 = trdb2py.trading2_pb2.CtrlCondition(\n",
    "        name='buyandhold',\n",
    "    )\n",
    "\n",
    "    paramsbuy = trdb2py.trading2_pb2.BuyParams(\n",
    "        perHandMoney=1,\n",
    "    )\n",
    "\n",
    "    paramsinit = trdb2py.trading2_pb2.InitParams(\n",
    "        money=10000,\n",
    "    )\n",
    "\n",
    "    s0.buy.extend([buy0])\n",
    "    s0.paramsBuy.CopyFrom(paramsbuy)\n",
    "    s0.paramsInit.CopyFrom(paramsinit)        \n",
    "    p0 = trdb2py.trading2_pb2.SimTradingParams(\n",
    "        assets=[trdb2py.str2asset(lstassetcode[ai])],\n",
    "        startTs=tsStart,\n",
    "        endTs=tsEnd,\n",
    "        strategies=[s0],\n",
    "        title=lstassetname[ai],\n",
    "    )\n",
    "    \n",
    "    lstparams.append(p0)\n",
    "\n",
    "lstpnl1 = trdb2py.simTradings(trdb2cfg, lstparams)\n",
    "\n",
    "trdb2py.showPNLs(lstpnl1, toImg=isStaticImg, width=width, height=height)"
   ]
  },
  {
   "cell_type": "code",
   "execution_count": null,
   "metadata": {},
   "outputs": [],
   "source": []
  }
 ],
 "metadata": {
  "kernelspec": {
   "display_name": "Python 3",
   "language": "python",
   "name": "python3"
  },
  "language_info": {
   "codemirror_mode": {
    "name": "ipython",
    "version": 3
   },
   "file_extension": ".py",
   "mimetype": "text/x-python",
   "name": "python",
   "nbconvert_exporter": "python",
   "pygments_lexer": "ipython3",
   "version": "3.8.8"
  }
 },
 "nbformat": 4,
 "nbformat_minor": 4
}
