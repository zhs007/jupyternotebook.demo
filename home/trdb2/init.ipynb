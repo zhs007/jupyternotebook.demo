{
 "cells": [
  {
   "cell_type": "code",
   "execution_count": 1,
   "metadata": {},
   "outputs": [
    {
     "name": "stdout",
     "output_type": "stream",
     "text": [
      "Collecting trdb2py==0.1.51\n",
      "  Downloading trdb2py-0.1.51-py3-none-any.whl (31 kB)\n",
      "Installing collected packages: trdb2py\n",
      "  Attempting uninstall: trdb2py\n",
      "    Found existing installation: trdb2py 0.1.49\n",
      "    Uninstalling trdb2py-0.1.49:\n",
      "      Successfully uninstalled trdb2py-0.1.49\n",
      "Successfully installed trdb2py-0.1.51\n"
     ]
    }
   ],
   "source": [
    "!pip install trdb2py==0.1.51"
   ]
  }
 ],
 "metadata": {
  "kernelspec": {
   "display_name": "Python 3",
   "language": "python",
   "name": "python3"
  },
  "language_info": {
   "codemirror_mode": {
    "name": "ipython",
    "version": 3
   },
   "file_extension": ".py",
   "mimetype": "text/x-python",
   "name": "python",
   "nbconvert_exporter": "python",
   "pygments_lexer": "ipython3",
   "version": "3.8.6"
  }
 },
 "nbformat": 4,
 "nbformat_minor": 4
}
