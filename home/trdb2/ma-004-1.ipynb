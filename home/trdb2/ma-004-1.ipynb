{
 "cells": [
  {
   "cell_type": "markdown",
   "metadata": {},
   "source": [
    "均线 纳斯达克指数 双均线"
   ]
  },
  {
   "cell_type": "code",
   "execution_count": null,
   "metadata": {},
   "outputs": [],
   "source": [
    "import pandas as pd\n",
    "from datetime import datetime\n",
    "import trdb2py\n",
    "\n",
    "isStaticImg = False\n",
    "width = 960\n",
    "height = 768\n",
    "\n",
    "pd.options.display.max_columns = None\n",
    "pd.options.display.max_rows = None\n",
    "\n",
    "trdb2cfg = trdb2py.loadConfig('./trdb2.yaml')"
   ]
  },
  {
   "cell_type": "code",
   "execution_count": null,
   "metadata": {},
   "outputs": [],
   "source": [
    "# 具体基金\n",
    "# asset = 'jrj.510310'\n",
    "asset = 'jqdata.000300_XSHG|1d'\n",
    "\n",
    "# 起始时间，0表示从最开始算起\n",
    "# tsStart = 0\n",
    "tsStart = int(trdb2py.str2timestamp('2013-05-01', '%Y-%m-%d'))\n",
    "\n",
    "# 结束时间，-1表示到现在为止\n",
    "# tsEnd = -1\n",
    "tsEnd = int(trdb2py.str2timestamp('2020-09-30', '%Y-%m-%d'))\n",
    "\n",
    "# 初始资金池\n",
    "paramsinit = trdb2py.trading2_pb2.InitParams(\n",
    "    money=10000,\n",
    ")\n",
    "\n",
    "# 买入参数，用全部的钱来买入（也就是复利）\n",
    "paramsbuy = trdb2py.trading2_pb2.BuyParams(\n",
    "    perHandMoney=1,\n",
    ")\n",
    "\n",
    "# 卖出参数，全部卖出\n",
    "paramssell = trdb2py.trading2_pb2.SellParams(\n",
    "    perVolume=1,\n",
    ")"
   ]
  },
  {
   "cell_type": "code",
   "execution_count": null,
   "metadata": {
    "scrolled": false
   },
   "outputs": [],
   "source": [
    "asset = 'jqdata.513100_XSHG|1d'\n",
    "\n",
    "# 起始时间，0表示从最开始算起\n",
    "# tsStart = 0\n",
    "tsStart = int(trdb2py.str2timestamp('2013-05-01', '%Y-%m-%d'))\n",
    "\n",
    "# 结束时间，-1表示到现在为止\n",
    "# tsEnd = -1\n",
    "tsEnd = int(trdb2py.str2timestamp('2020-09-30', '%Y-%m-%d'))\n",
    "\n",
    "# baseline    \n",
    "s0 = trdb2py.trading2_pb2.Strategy(\n",
    "    name=\"normal\",\n",
    "    asset=trdb2py.str2asset(asset),         \n",
    ")\n",
    "        \n",
    "buy0 = trdb2py.trading2_pb2.CtrlCondition(\n",
    "    name='buyandhold',\n",
    ")\n",
    "\n",
    "paramsbuy = trdb2py.trading2_pb2.BuyParams(\n",
    "    perHandMoney=1,\n",
    ")\n",
    "\n",
    "paramsinit = trdb2py.trading2_pb2.InitParams(\n",
    "    money=10000,\n",
    ")\n",
    "\n",
    "s0.buy.extend([buy0])\n",
    "s0.paramsBuy.CopyFrom(paramsbuy)\n",
    "s0.paramsInit.CopyFrom(paramsinit)        \n",
    "p0 = trdb2py.trading2_pb2.SimTradingParams(\n",
    "    assets=[trdb2py.str2asset(asset)],\n",
    "    startTs=tsStart,\n",
    "    endTs=tsEnd,\n",
    "    strategies=[s0],\n",
    "    title='纳斯达克指数',\n",
    ")  \n",
    "\n",
    "pnlBaseline = trdb2py.simTrading(trdb2cfg, p0)\n",
    "trdb2py.showPNL(pnlBaseline, toImg=isStaticImg, width=width, height=height)"
   ]
  },
  {
   "cell_type": "markdown",
   "metadata": {},
   "source": [
    "我们还是拿沪深300指数，2013年5月1日到2020年9月30日的日线数据来做例子。"
   ]
  },
  {
   "cell_type": "markdown",
   "metadata": {},
   "source": [
    "接下来，测一下均线"
   ]
  },
  {
   "cell_type": "code",
   "execution_count": null,
   "metadata": {},
   "outputs": [],
   "source": [
    "lstparams = []\n",
    "\n",
    "asset = 'jqdata.513100_XSHG|1d'\n",
    "\n",
    "# 起始时间，0表示从最开始算起\n",
    "# tsStart = 0\n",
    "tsStart = int(trdb2py.str2timestamp('2013-05-01', '%Y-%m-%d'))\n",
    "\n",
    "# 结束时间，-1表示到现在为止\n",
    "# tsEnd = -1\n",
    "tsEnd = int(trdb2py.str2timestamp('2020-09-30', '%Y-%m-%d'))\n",
    "\n",
    "\n",
    "for ema0 in range(2, 481):\n",
    "    for ema1 in range(ema0 + 1, 481):\n",
    "        buy0 = trdb2py.trading2_pb2.CtrlCondition(\n",
    "            name='indicatordp',\n",
    "            operators=['upcross'],\n",
    "            strVals=['ta-sma.{}'.format(ema0), 'ta-sma.{}'.format(ema1)],\n",
    "        )\n",
    "\n",
    "        buy1 = trdb2py.trading2_pb2.CtrlCondition(\n",
    "            name='waittostart',\n",
    "            vals=[ema0],\n",
    "        )\n",
    "        \n",
    "#         buy2 = trdb2py.trading2_pb2.CtrlCondition(\n",
    "#             name='indicatorsp',\n",
    "#             operators=['up'],\n",
    "#             strVals=['ta-sma.{}'.format(ema0)],\n",
    "#         )\n",
    "        \n",
    "        buy3 = trdb2py.trading2_pb2.CtrlCondition(\n",
    "            name='waittostart',\n",
    "            vals=[ema1],\n",
    "        )        \n",
    "\n",
    "        sell0 = trdb2py.trading2_pb2.CtrlCondition(\n",
    "            name='indicatordp',\n",
    "            operators=['downcross'],\n",
    "            strVals=['ta-sma.{}'.format(ema0), 'ta-sma.{}'.format(ema1)],\n",
    "        )\n",
    "        \n",
    "#         sell1 = trdb2py.trading2_pb2.CtrlCondition(\n",
    "#             name='indicatorsp',\n",
    "#             operators=['down'],\n",
    "#             strVals=['ta-sma.{}'.format(ema0)],\n",
    "#         )\n",
    "\n",
    "        s0 = trdb2py.trading2_pb2.Strategy(\n",
    "            name=\"normal\",\n",
    "            asset=trdb2py.str2asset(asset),\n",
    "        )\n",
    "\n",
    "        s0.buy.extend([buy0, buy1, buy3])\n",
    "        s0.sell.extend([sell0])\n",
    "        s0.paramsBuy.CopyFrom(paramsbuy)\n",
    "        s0.paramsSell.CopyFrom(paramssell) \n",
    "        s0.paramsInit.CopyFrom(paramsinit)        \n",
    "        lstparams.append(trdb2py.trading2_pb2.SimTradingParams(\n",
    "            assets=[trdb2py.str2asset(asset)],\n",
    "            startTs=tsStart,\n",
    "            endTs=tsEnd,\n",
    "            strategies=[s0],\n",
    "            title='sma{}&sma{}'.format(ema0, ema1),\n",
    "        ))\n",
    "        \n",
    "# len(lstparams)\n",
    "lstpnlmix = trdb2py.simTradings(trdb2cfg, lstparams, ignoreTotalReturn=4)        \n",
    "\n",
    "trdb2py.showPNLs(lstpnlmix + [pnlBaseline], toImg=isStaticImg, width=width, height=height)"
   ]
  },
  {
   "cell_type": "code",
   "execution_count": null,
   "metadata": {
    "scrolled": false
   },
   "outputs": [],
   "source": [
    "dfpnl = trdb2py.buildPNLReport(lstpnlmix + [pnlBaseline])\n",
    "\n",
    "# dfpnl1 = dfpnl[dfpnl['totalReturns'] > 1]\n",
    "\n",
    "dfpnl[['title', 'maxDrawdown', 'maxDrawdownStart', 'maxDrawdownEnd', 'totalReturns', 'sharpe', 'annualizedReturns', 'annualizedVolatility', 'variance']].sort_values(by='totalReturns', ascending=False)"
   ]
  },
  {
   "cell_type": "code",
   "execution_count": null,
   "metadata": {},
   "outputs": [],
   "source": []
  }
 ],
 "metadata": {
  "kernelspec": {
   "display_name": "Python 3",
   "language": "python",
   "name": "python3"
  },
  "language_info": {
   "codemirror_mode": {
    "name": "ipython",
    "version": 3
   },
   "file_extension": ".py",
   "mimetype": "text/x-python",
   "name": "python",
   "nbconvert_exporter": "python",
   "pygments_lexer": "ipython3",
   "version": "3.8.6"
  }
 },
 "nbformat": 4,
 "nbformat_minor": 4
}
