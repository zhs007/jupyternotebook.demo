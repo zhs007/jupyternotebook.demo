{
 "cells": [
  {
   "cell_type": "code",
   "execution_count": null,
   "id": "413ba532",
   "metadata": {},
   "outputs": [],
   "source": [
    "import json\n",
    "from datetime import datetime\n",
    "import pandas as pd\n",
    "import plotly.graph_objects as go"
   ]
  },
  {
   "cell_type": "code",
   "execution_count": null,
   "id": "09b7f8b0",
   "metadata": {},
   "outputs": [],
   "source": [
    "def loadjson(fn):\n",
    "    f = open(fn)\n",
    "    buf = f.read()\n",
    "    f.close()\n",
    "    \n",
    "    obj = json.loads(buf)\n",
    "    return obj\n",
    "\n",
    "# 分析消息头占比，且消息头修改后大小变化\n",
    "def analyzeSenderMsgHead(inobj, msgheadsize2):\n",
    "    ret = {\n",
    "        'totalbytes': 0,\n",
    "        'totalmsgs': 0,\n",
    "        'totalheadbytes': 0,\n",
    "        'totalheadbytes2': 0,        \n",
    "    }  \n",
    "    \n",
    "    for msgid in inobj['mapMsgs']:\n",
    "        ret['totalbytes'] += inobj['mapMsgs'][msgid]['totalBytes']\n",
    "        ret['totalmsgs'] += inobj['mapMsgs'][msgid]['totalTimes']\n",
    "        ret['totalheadbytes'] += 12 * inobj['mapMsgs'][msgid]['totalTimes']\n",
    "        ret['totalheadbytes2'] += msgheadsize2 * inobj['mapMsgs'][msgid]['totalTimes']\n",
    "        \n",
    "    return ret\n",
    "\n",
    "def formatBytes(nums):\n",
    "    if nums < 1024:\n",
    "        return '{}'.format(nums)\n",
    "    \n",
    "    if nums < 1024 * 1024:\n",
    "        return '{}k'.format(nums / 1024)\n",
    "    \n",
    "    if nums < 1024 * 1024 * 1024:\n",
    "        return '{}m'.format(nums / 1024 / 1024)\n",
    "    \n",
    "\n",
    "    return '{}g'.format(nums / 1024 / 1024 / 1024)    "
   ]
  },
  {
   "cell_type": "code",
   "execution_count": null,
   "id": "8d3251e5",
   "metadata": {},
   "outputs": [],
   "source": [
    "obj = loadjson(\"./gateway.sender.1650034208.json\")\n",
    "msg1 = analyzeSenderMsgHead(obj, 8)\n",
    "msg2 = analyzeSenderMsgHead(obj, 4)\n",
    "\n",
    "print('一共发送消息数为：', msg1['totalmsgs'])\n",
    "print('共消耗：', formatBytes(msg1['totalbytes']))\n",
    "print('平均消息大小为：', msg1['totalbytes'] / msg1['totalmsgs'])\n",
    "print('消息头占比为：', msg1['totalheadbytes'] / msg1['totalbytes'])\n",
    "print('如果消息头减小4字节，整体带宽将减少到：', (msg1['totalbytes'] - msg1['totalheadbytes'] + msg1['totalheadbytes2']) / msg1['totalbytes'])\n",
    "print('如果消息头减小8字节，整体带宽将减少到：', (msg2['totalbytes'] - msg2['totalheadbytes'] + msg2['totalheadbytes2']) / msg2['totalbytes'])"
   ]
  },
  {
   "cell_type": "code",
   "execution_count": null,
   "id": "c60cc581",
   "metadata": {},
   "outputs": [],
   "source": [
    "# 看协议整体消息大小占比\n",
    "def showTotalMsgSize(inobj, maxsize = 10):\n",
    "    lstmsgid = []\n",
    "    lstmsgsize = []\n",
    "    nums = 0\n",
    "    \n",
    "    for msgid in inobj['mapMsgs']:\n",
    "        lstmsgid.append(msgid)\n",
    "        lstmsgsize.append(inobj['mapMsgs'][msgid]['totalBytes'])\n",
    "        \n",
    "        nums += 1\n",
    "        if nums >= maxsize:\n",
    "            break\n",
    "        \n",
    "    fig = go.Figure(data=[go.Pie(labels=lstmsgid, values=lstmsgsize)])\n",
    "    fig.update_layout(title_text='协议整体占比（含次数）')\n",
    "    fig.show()"
   ]
  },
  {
   "cell_type": "code",
   "execution_count": null,
   "id": "bb9fbe4e",
   "metadata": {},
   "outputs": [],
   "source": [
    "showTotalMsgSize(obj)"
   ]
  },
  {
   "cell_type": "code",
   "execution_count": null,
   "id": "024f24ad",
   "metadata": {},
   "outputs": [],
   "source": [
    "# 看协议平均大小占比\n",
    "def showAvgMsgSize(inobj, maxsize = 10):\n",
    "    lstmsgid = []\n",
    "    lstmsgsize = []\n",
    "    nums = 0\n",
    "    \n",
    "    for msgid in inobj['mapMsgs']:\n",
    "        lstmsgid.append(msgid)\n",
    "        lstmsgsize.append(inobj['mapMsgs'][msgid]['totalBytes'] / inobj['mapMsgs'][msgid]['totalTimes'])\n",
    "        \n",
    "        nums += 1\n",
    "        if nums >= maxsize:\n",
    "            break\n",
    "        \n",
    "    fig = go.Figure(data=[go.Pie(labels=lstmsgid, values=lstmsgsize)])\n",
    "    fig.update_layout(title_text='协议平均大小占比')\n",
    "    fig.show()"
   ]
  },
  {
   "cell_type": "code",
   "execution_count": null,
   "id": "eb185364",
   "metadata": {},
   "outputs": [],
   "source": [
    "showAvgMsgSize(obj)"
   ]
  },
  {
   "cell_type": "code",
   "execution_count": null,
   "id": "d44de636",
   "metadata": {},
   "outputs": [],
   "source": [
    "# 看协议次数占比\n",
    "def showMsgTimes(inobj, maxsize = 10):\n",
    "    lstmsgid = []\n",
    "    lstmsgsize = []\n",
    "    nums = 0\n",
    "    \n",
    "    for msgid in inobj['mapMsgs']:\n",
    "        lstmsgid.append(msgid)\n",
    "        lstmsgsize.append(inobj['mapMsgs'][msgid]['totalTimes'])\n",
    "        \n",
    "        nums += 1\n",
    "        if nums >= maxsize:\n",
    "            break\n",
    "        \n",
    "    fig = go.Figure(data=[go.Pie(labels=lstmsgid, values=lstmsgsize)])\n",
    "    fig.update_layout(title_text='协议次数占比')\n",
    "    fig.show()"
   ]
  },
  {
   "cell_type": "code",
   "execution_count": null,
   "id": "fc031f70",
   "metadata": {},
   "outputs": [],
   "source": [
    "showMsgTimes(obj)"
   ]
  }
 ],
 "metadata": {
  "kernelspec": {
   "display_name": "Python 3 (ipykernel)",
   "language": "python",
   "name": "python3"
  },
  "language_info": {
   "codemirror_mode": {
    "name": "ipython",
    "version": 3
   },
   "file_extension": ".py",
   "mimetype": "text/x-python",
   "name": "python",
   "nbconvert_exporter": "python",
   "pygments_lexer": "ipython3",
   "version": "3.9.7"
  }
 },
 "nbformat": 4,
 "nbformat_minor": 5
}
