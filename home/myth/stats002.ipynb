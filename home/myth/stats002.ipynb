{
 "cells": [
  {
   "cell_type": "code",
   "execution_count": null,
   "id": "413ba532",
   "metadata": {},
   "outputs": [],
   "source": [
    "import json\n",
    "from datetime import datetime\n",
    "import pandas as pd\n",
    "import plotly.graph_objects as go"
   ]
  },
  {
   "cell_type": "code",
   "execution_count": null,
   "id": "09b7f8b0",
   "metadata": {},
   "outputs": [],
   "source": [
    "def loadjson(fn):\n",
    "    f = open(fn)\n",
    "    buf = f.read()\n",
    "    f.close()\n",
    "    \n",
    "    obj = json.loads(buf)\n",
    "    return obj\n",
    "\n",
    "def parseMsgID(msgid):\n",
    "    if msgid[0] == 'l':\n",
    "        return -1, -1\n",
    "    \n",
    "    arr = msgid.split('_')\n",
    "    return int(arr[0]), int(arr[1])\n",
    "\n",
    "def sortByVal(ele):\n",
    "    return ele['val']"
   ]
  },
  {
   "cell_type": "code",
   "execution_count": null,
   "id": "16cd00eb",
   "metadata": {},
   "outputs": [],
   "source": [
    "# 看已处理和未处理的协议占比，200以上的不考虑\n",
    "def showTestPer(inobj):\n",
    "    lstname = ['已测试', '未测试']\n",
    "    lstvalue = [0, 0]\n",
    "    nums = 0\n",
    "    \n",
    "    for msgid in inobj['mapMsgs']:\n",
    "        mt, st = parseMsgID(msgid)\n",
    "        \n",
    "        if mt < 0 or mt >= 200:\n",
    "            continue\n",
    "            \n",
    "        if 'nodes' in inobj['mapMsgs'][msgid]:\n",
    "            lstvalue[0] += 1\n",
    "        else:\n",
    "            lstvalue[1] += 1\n",
    "        \n",
    "    fig = go.Figure(data=[go.Pie(labels=lstname, values=lstvalue)])\n",
    "    fig.update_layout(title_text='已处理和未处理的协议')\n",
    "    fig.show()"
   ]
  },
  {
   "cell_type": "code",
   "execution_count": null,
   "id": "68d1e7d9",
   "metadata": {},
   "outputs": [],
   "source": [
    "obj = loadjson('./game.1650189005.json')\n",
    "\n",
    "showTestPer(obj)"
   ]
  },
  {
   "cell_type": "code",
   "execution_count": null,
   "id": "86122918",
   "metadata": {},
   "outputs": [],
   "source": [
    "# 看并发处理占比，没有测试的不考虑，只触发过1次的不考虑\n",
    "def showSyncPer(inobj):\n",
    "    lstname = ['并发', '未并发']\n",
    "    lstvalue = [0, 0]\n",
    "    nums = 0\n",
    "    \n",
    "    for msgid in inobj['mapMsgs']:\n",
    "        mt, st = parseMsgID(msgid)\n",
    "            \n",
    "        if 'nodes' in inobj['mapMsgs'][msgid]:\n",
    "            if inobj['mapMsgs'][msgid]['maxParallels'] == 1 and len(inobj['mapMsgs'][msgid]['nodes']) == 1:\n",
    "                lstvalue[1] += 1\n",
    "            else:\n",
    "                lstvalue[0] += 1\n",
    "        \n",
    "    fig = go.Figure(data=[go.Pie(labels=lstname, values=lstvalue)])\n",
    "    fig.update_layout(title_text='是否并发')\n",
    "    fig.show()"
   ]
  },
  {
   "cell_type": "code",
   "execution_count": null,
   "id": "99752a41",
   "metadata": {},
   "outputs": [],
   "source": [
    "showSyncPer(obj)"
   ]
  },
  {
   "cell_type": "code",
   "execution_count": null,
   "id": "90c33796",
   "metadata": {},
   "outputs": [],
   "source": [
    "# 看协议平均大耗时占比\n",
    "def showAvgMsgTime(inobj, maxsize = 10):\n",
    "    lstmsgid = []\n",
    "    lstmsgsize = []\n",
    "    lstdata = []\n",
    "    ci = 0\n",
    "    \n",
    "    for msgid in inobj['mapMsgs']:\n",
    "        if 'nodes' in inobj['mapMsgs'][msgid]:\n",
    "            lstdata.append({\n",
    "                'name': msgid,\n",
    "                'val': inobj['mapMsgs'][msgid]['totalTime'] / inobj['mapMsgs'][msgid]['totalTimes'],\n",
    "            })\n",
    "            \n",
    "    lstdata.sort(key=sortByVal, reverse=True)\n",
    "    \n",
    "    for cd in lstdata:\n",
    "        lstmsgid.append(cd['name'])\n",
    "        lstmsgsize.append(cd['val'])   \n",
    "        \n",
    "        ci += 1\n",
    "        if ci > maxsize:\n",
    "            break    \n",
    "        \n",
    "    fig = go.Figure(data=[go.Pie(labels=lstmsgid, values=lstmsgsize)])\n",
    "    fig.update_layout(title_text='协议平均耗时占比')\n",
    "    fig.show()"
   ]
  },
  {
   "cell_type": "code",
   "execution_count": null,
   "id": "4f1bbb13",
   "metadata": {},
   "outputs": [],
   "source": [
    "showAvgMsgTime(obj)"
   ]
  },
  {
   "cell_type": "code",
   "execution_count": null,
   "id": "004f5609",
   "metadata": {},
   "outputs": [],
   "source": [
    "# 看协议最大耗时占比\n",
    "def showMaxMsgTime(inobj, maxsize = 10):\n",
    "    lstmsgid = []\n",
    "    lstmsgsize = []\n",
    "    lstdata = []\n",
    "    ci = 0\n",
    "    \n",
    "    for msgid in inobj['mapMsgs']:\n",
    "        if 'nodes' in inobj['mapMsgs'][msgid]:\n",
    "            lstdata.append({\n",
    "                'name': msgid,\n",
    "                'val': inobj['mapMsgs'][msgid]['maxTime'],\n",
    "            })\n",
    "            \n",
    "    lstdata.sort(key=sortByVal, reverse=True)\n",
    "    \n",
    "    for cd in lstdata:\n",
    "        lstmsgid.append(cd['name'])\n",
    "        lstmsgsize.append(cd['val'])   \n",
    "        \n",
    "        ci += 1\n",
    "        if ci > maxsize:\n",
    "            break\n",
    "        \n",
    "    fig = go.Figure(data=[go.Pie(labels=lstmsgid, values=lstmsgsize)])\n",
    "    fig.update_layout(title_text='协议最大耗时占比')\n",
    "    fig.show()"
   ]
  },
  {
   "cell_type": "code",
   "execution_count": null,
   "id": "5c26c3a8",
   "metadata": {},
   "outputs": [],
   "source": [
    "showMaxMsgTime(obj)"
   ]
  },
  {
   "cell_type": "code",
   "execution_count": null,
   "id": "fad1b6f4",
   "metadata": {},
   "outputs": [],
   "source": [
    "# 看协议次数占比\n",
    "def showMsgTimes(inobj, maxsize = 10):\n",
    "    lstmsgid = []\n",
    "    lstmsgsize = []\n",
    "    lstdata = []\n",
    "    ci = 0\n",
    "    \n",
    "    for msgid in inobj['mapMsgs']:\n",
    "        if 'nodes' in inobj['mapMsgs'][msgid]:\n",
    "            lstdata.append({\n",
    "                'name': msgid,\n",
    "                'val': inobj['mapMsgs'][msgid]['totalTimes'],\n",
    "            })\n",
    "            \n",
    "    lstdata.sort(key=sortByVal, reverse=True)\n",
    "    \n",
    "    for cd in lstdata:\n",
    "        lstmsgid.append(cd['name'])\n",
    "        lstmsgsize.append(cd['val'])   \n",
    "        \n",
    "        ci += 1\n",
    "        if ci > maxsize:\n",
    "            break\n",
    "        \n",
    "    fig = go.Figure(data=[go.Pie(labels=lstmsgid, values=lstmsgsize)])\n",
    "    fig.update_layout(title_text='协议次数占比')\n",
    "    fig.show()"
   ]
  },
  {
   "cell_type": "code",
   "execution_count": null,
   "id": "b24ddefb",
   "metadata": {},
   "outputs": [],
   "source": [
    "showMsgTimes(obj)"
   ]
  },
  {
   "cell_type": "code",
   "execution_count": null,
   "id": "44b1a9f0",
   "metadata": {},
   "outputs": [],
   "source": []
  }
 ],
 "metadata": {
  "kernelspec": {
   "display_name": "Python 3 (ipykernel)",
   "language": "python",
   "name": "python3"
  },
  "language_info": {
   "codemirror_mode": {
    "name": "ipython",
    "version": 3
   },
   "file_extension": ".py",
   "mimetype": "text/x-python",
   "name": "python",
   "nbconvert_exporter": "python",
   "pygments_lexer": "ipython3",
   "version": "3.9.7"
  }
 },
 "nbformat": 4,
 "nbformat_minor": 5
}
